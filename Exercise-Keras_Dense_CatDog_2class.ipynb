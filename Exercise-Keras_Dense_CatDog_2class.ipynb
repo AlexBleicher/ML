{
 "cells": [
  {
   "cell_type": "markdown",
   "metadata": {},
   "source": [
    "# Wir implementieren einen Hund-Katze Klassifikator mit neuronalen Netzen"
   ]
  },
  {
   "cell_type": "code",
   "execution_count": 7,
   "metadata": {},
   "outputs": [
    {
     "name": "stdout",
     "output_type": "stream",
     "text": [
      "Done\n"
     ]
    }
   ],
   "source": [
    "from sklearn.preprocessing import LabelEncoder\n",
    "from sklearn.model_selection import train_test_split\n",
    "from tensorflow.keras.models import Sequential\n",
    "from tensorflow.keras.layers import Activation\n",
    "from tensorflow.keras.optimizers import SGD\n",
    "from tensorflow.keras.layers import Dense\n",
    "from tensorflow.keras import utils\n",
    "import cv2\n",
    "from imutils import paths\n",
    "import numpy as np\n",
    "import argparse\n",
    "import os\n"
   ]
  },
  {
   "cell_type": "markdown",
   "metadata": {},
   "source": [
    "## Folgende Funktion nimmt ein Bild entgegen, skaliert das Bild auf 32x32 RGB-Pixel, und liefert einen 3072-dim Merkmalevektor zurueck"
   ]
  },
  {
   "cell_type": "code",
   "execution_count": 8,
   "metadata": {},
   "outputs": [],
   "source": [
    "def image_to_feature_vector(image, size=(32, 32)):\n",
    "\t# resize the image to a fixed size, then flatten the image into\n",
    "\t# a list of raw pixel intensities\n",
    "\n",
    "    return cv2.resize(image, size).flatten()"
   ]
  },
  {
   "cell_type": "code",
   "execution_count": null,
   "metadata": {},
   "outputs": [],
   "source": []
  },
  {
   "cell_type": "markdown",
   "metadata": {},
   "source": [
    "## Laden Sie die Daten aus dem gitlab:\n",
    "\n",
    "- data/train.zip\n",
    "\n",
    "- data/test100.zip\n",
    "\n",
    "\n",
    "Schreiben Sie eine Funktion, die die Bilder einliest und mit Hilfe der Funktion image_to_feature_vector vorverarbeiten. Anschließend sollen die Vektoren in eine data-Matrix geschrieben werden. \n",
    "Zusätzlich ist ein label-Vektor zu erzeugen. Wie sehen die Labels sinnvollerweise aus?"
   ]
  },
  {
   "cell_type": "code",
   "execution_count": 54,
   "metadata": {},
   "outputs": [
    {
     "name": "stdout",
     "output_type": "stream",
     "text": [
      "24000\n",
      "23000\n",
      "22000\n",
      "21000\n",
      "20000\n",
      "19000\n",
      "18000\n",
      "17000\n",
      "16000\n",
      "15000\n",
      "14000\n",
      "13000\n",
      "12000\n",
      "11000\n",
      "10000\n",
      "9000\n",
      "8000\n",
      "7000\n",
      "6000\n",
      "5000\n",
      "4000\n",
      "3000\n",
      "2000\n",
      "1000\n",
      "0\n",
      "Done\n"
     ]
    }
   ],
   "source": [
    "\n",
    "\n",
    "def getTestData(path):\n",
    "    Xtrain = np.empty((0,3072))\n",
    "    ytrain = np.empty([0])\n",
    "    data = os.listdir(path)\n",
    "    i=0\n",
    "    for imgName in data:\n",
    "        i=i+1\n",
    "        if((len(data)-i)%1000 ==0):\n",
    "            print(len(data)-i)\n",
    "        img = cv2.imread(os.path.join(path,imgName))\n",
    "        Xtrain = np.append(Xtrain, [image_to_feature_vector(img)], axis=0)\n",
    "        if(\"cat\" in imgName):\n",
    "            ytrain=np.append(ytrain, 0) #0=Cat\n",
    "        else:\n",
    "            ytrain=np.append(ytrain, 1) #1=Dog\n",
    "    print(\"Done\")\n",
    "    return Xtrain, ytrain\n",
    "\n",
    "Xtrain, ytrain = getTestData(\"C:\\\\Users\\\\ABleicher\\\\Desktop\\\\train\")"
   ]
  },
  {
   "cell_type": "code",
   "execution_count": 56,
   "metadata": {},
   "outputs": [
    {
     "name": "stdout",
     "output_type": "stream",
     "text": [
      "[[ 93. 171. 210. ...   1.   3.   3.]\n",
      " [ 41.  37.  33. ...  31.  36.  51.]\n",
      " [ 61.  55.  46. ...   4. 193. 194.]\n",
      " ...\n",
      " [ 34.  37.  41. ...  98. 133. 163.]\n",
      " [246. 245. 250. ... 110. 112. 123.]\n",
      " [243. 251. 254. ... 254. 254. 254.]]\n",
      "[0. 0. 0. ... 1. 1. 1.]\n"
     ]
    }
   ],
   "source": [
    "print(Xtrain)\n",
    "print(ytrain)"
   ]
  },
  {
   "cell_type": "markdown",
   "metadata": {},
   "source": [
    "## Splitten Sie die Daten in ein train/test-set.\n",
    "\n",
    "Macht es Sinn die Daten zu normieren?"
   ]
  },
  {
   "cell_type": "code",
   "execution_count": 59,
   "metadata": {},
   "outputs": [
    {
     "name": "stdout",
     "output_type": "stream",
     "text": [
      "(18750, 3072)\n",
      "(18750,)\n"
     ]
    }
   ],
   "source": [
    "(Xtr, Xte, ytr, yte) = train_test_split(Xtrain, ytrain)\n"
   ]
  },
  {
   "cell_type": "markdown",
   "metadata": {},
   "source": [
    "# Erstellen Sie ein Neuronales Netz mit Keras"
   ]
  },
  {
   "cell_type": "code",
   "execution_count": 62,
   "metadata": {},
   "outputs": [],
   "source": [
    "nnet = Sequential()\n",
    "nnet.add(Dense(64, input_dim=3072, activation='relu'))\n",
    "#nnet.add(Dense(64, activation='relu'))\n",
    "#nnet.add(Dense(5, activation='relu'))\n",
    "nnet.add(Dense(1, activation='sigmoid'))\n",
    "\n",
    "nnet.compile(loss='binary_crossentropy', optimizer='sgd', metrics=['accuracy'])"
   ]
  },
  {
   "cell_type": "markdown",
   "metadata": {},
   "source": [
    "# ... und starten Sie das Training"
   ]
  },
  {
   "cell_type": "code",
   "execution_count": 63,
   "metadata": {},
   "outputs": [
    {
     "name": "stdout",
     "output_type": "stream",
     "text": [
      "Epoch 1/50\n",
      "188/188 [==============================] - 1s 3ms/step - loss: 419.4304 - accuracy: 0.4997\n",
      "Epoch 2/50\n",
      "188/188 [==============================] - 0s 2ms/step - loss: 0.6932 - accuracy: 0.5011\n",
      "Epoch 3/50\n",
      "188/188 [==============================] - 0s 2ms/step - loss: 0.6932 - accuracy: 0.4985\n",
      "Epoch 4/50\n",
      "188/188 [==============================] - 0s 2ms/step - loss: 0.6932 - accuracy: 0.5011\n",
      "Epoch 5/50\n",
      "188/188 [==============================] - 0s 2ms/step - loss: 0.6932 - accuracy: 0.4997\n",
      "Epoch 6/50\n",
      "188/188 [==============================] - 0s 2ms/step - loss: 0.6932 - accuracy: 0.5011\n",
      "Epoch 7/50\n",
      "188/188 [==============================] - 0s 2ms/step - loss: 0.6932 - accuracy: 0.5011\n",
      "Epoch 8/50\n",
      "188/188 [==============================] - 0s 2ms/step - loss: 0.6932 - accuracy: 0.5011\n",
      "Epoch 9/50\n",
      "188/188 [==============================] - 0s 2ms/step - loss: 0.6932 - accuracy: 0.5011\n",
      "Epoch 10/50\n",
      "188/188 [==============================] - 0s 3ms/step - loss: 0.6932 - accuracy: 0.5006\n",
      "Epoch 11/50\n",
      "188/188 [==============================] - 0s 2ms/step - loss: 0.6932 - accuracy: 0.5011\n",
      "Epoch 12/50\n",
      "188/188 [==============================] - 0s 2ms/step - loss: 0.6932 - accuracy: 0.5011\n",
      "Epoch 13/50\n",
      "188/188 [==============================] - 0s 2ms/step - loss: 0.6932 - accuracy: 0.4970\n",
      "Epoch 14/50\n",
      "188/188 [==============================] - 0s 2ms/step - loss: 0.6932 - accuracy: 0.5011\n",
      "Epoch 15/50\n",
      "188/188 [==============================] - 0s 2ms/step - loss: 0.6932 - accuracy: 0.5011\n",
      "Epoch 16/50\n",
      "188/188 [==============================] - 0s 2ms/step - loss: 0.6932 - accuracy: 0.5005\n",
      "Epoch 17/50\n",
      "188/188 [==============================] - 0s 3ms/step - loss: 0.6932 - accuracy: 0.5011\n",
      "Epoch 18/50\n",
      "188/188 [==============================] - 0s 2ms/step - loss: 0.6932 - accuracy: 0.5011\n",
      "Epoch 19/50\n",
      "188/188 [==============================] - 0s 3ms/step - loss: 0.6932 - accuracy: 0.5011\n",
      "Epoch 20/50\n",
      "188/188 [==============================] - 0s 2ms/step - loss: 0.6932 - accuracy: 0.4974\n",
      "Epoch 21/50\n",
      "188/188 [==============================] - 0s 2ms/step - loss: 0.6932 - accuracy: 0.4994\n",
      "Epoch 22/50\n",
      "188/188 [==============================] - 0s 2ms/step - loss: 0.6932 - accuracy: 0.5011\n",
      "Epoch 23/50\n",
      "188/188 [==============================] - 0s 2ms/step - loss: 0.6932 - accuracy: 0.4998\n",
      "Epoch 24/50\n",
      "188/188 [==============================] - 0s 2ms/step - loss: 0.6932 - accuracy: 0.5011\n",
      "Epoch 25/50\n",
      "188/188 [==============================] - 0s 2ms/step - loss: 0.6932 - accuracy: 0.4996\n",
      "Epoch 26/50\n",
      "188/188 [==============================] - 0s 3ms/step - loss: 0.6932 - accuracy: 0.5011\n",
      "Epoch 27/50\n",
      "188/188 [==============================] - 0s 2ms/step - loss: 0.6932 - accuracy: 0.5005\n",
      "Epoch 28/50\n",
      "188/188 [==============================] - 0s 3ms/step - loss: 0.6932 - accuracy: 0.5011\n",
      "Epoch 29/50\n",
      "188/188 [==============================] - 0s 2ms/step - loss: 0.6932 - accuracy: 0.5011\n",
      "Epoch 30/50\n",
      "188/188 [==============================] - 0s 3ms/step - loss: 0.6932 - accuracy: 0.5011\n",
      "Epoch 31/50\n",
      "188/188 [==============================] - 0s 2ms/step - loss: 0.6932 - accuracy: 0.4988\n",
      "Epoch 32/50\n",
      "188/188 [==============================] - 0s 2ms/step - loss: 0.6932 - accuracy: 0.5004\n",
      "Epoch 33/50\n",
      "188/188 [==============================] - 0s 2ms/step - loss: 0.6932 - accuracy: 0.5011\n",
      "Epoch 34/50\n",
      "188/188 [==============================] - 0s 2ms/step - loss: 0.6932 - accuracy: 0.4986\n",
      "Epoch 35/50\n",
      "188/188 [==============================] - 0s 2ms/step - loss: 0.6932 - accuracy: 0.5011\n",
      "Epoch 36/50\n",
      "188/188 [==============================] - 0s 2ms/step - loss: 0.6932 - accuracy: 0.5011\n",
      "Epoch 37/50\n",
      "188/188 [==============================] - 0s 2ms/step - loss: 0.6932 - accuracy: 0.5011\n",
      "Epoch 38/50\n",
      "188/188 [==============================] - 0s 2ms/step - loss: 0.6932 - accuracy: 0.5011\n",
      "Epoch 39/50\n",
      "188/188 [==============================] - 0s 2ms/step - loss: 0.6932 - accuracy: 0.5011\n",
      "Epoch 40/50\n",
      "188/188 [==============================] - 0s 2ms/step - loss: 0.6932 - accuracy: 0.5011\n",
      "Epoch 41/50\n",
      "188/188 [==============================] - 0s 2ms/step - loss: 0.6932 - accuracy: 0.5011\n",
      "Epoch 42/50\n",
      "188/188 [==============================] - 0s 2ms/step - loss: 0.6932 - accuracy: 0.5001\n",
      "Epoch 43/50\n",
      "188/188 [==============================] - 0s 2ms/step - loss: 0.6932 - accuracy: 0.5011\n",
      "Epoch 44/50\n",
      "188/188 [==============================] - 0s 2ms/step - loss: 0.6932 - accuracy: 0.4994\n",
      "Epoch 45/50\n",
      "188/188 [==============================] - 0s 2ms/step - loss: 0.6932 - accuracy: 0.4995\n",
      "Epoch 46/50\n",
      "188/188 [==============================] - 0s 2ms/step - loss: 0.6932 - accuracy: 0.5000\n",
      "Epoch 47/50\n",
      "188/188 [==============================] - 0s 2ms/step - loss: 0.6932 - accuracy: 0.5011\n",
      "Epoch 48/50\n",
      "188/188 [==============================] - 0s 3ms/step - loss: 0.6932 - accuracy: 0.5011\n",
      "Epoch 49/50\n",
      "188/188 [==============================] - 0s 2ms/step - loss: 0.6932 - accuracy: 0.5003\n",
      "Epoch 50/50\n",
      "188/188 [==============================] - 0s 2ms/step - loss: 0.6932 - accuracy: 0.5011\n"
     ]
    },
    {
     "data": {
      "text/plain": [
       "<keras.callbacks.History at 0x1e896e3ccd0>"
      ]
     },
     "execution_count": 63,
     "metadata": {},
     "output_type": "execute_result"
    }
   ],
   "source": [
    "nnet.fit(Xtr, ytr, epochs=50, batch_size=100)"
   ]
  },
  {
   "cell_type": "markdown",
   "metadata": {},
   "source": [
    "# Evaluieren Sie das Netz auf den held-back Test-Daten\n",
    "\n",
    "\n",
    "Berechnen Sie die Akkuratheit und die Verwechselungsmatrix"
   ]
  },
  {
   "cell_type": "code",
   "execution_count": 71,
   "metadata": {},
   "outputs": [
    {
     "name": "stdout",
     "output_type": "stream",
     "text": [
      "0.5032\n",
      "[[3145    0]\n",
      " [3105    0]]\n"
     ]
    }
   ],
   "source": [
    "import sklearn.metrics as eval\n",
    "\n",
    "e = nnet.predict(Xte, verbose=0)\n",
    "res = np.empty((0))\n",
    "for i in e:\n",
    "    res = np.append(res, int(i[0]))\n",
    "print(eval.accuracy_score(yte, res))\n",
    "print(eval.confusion_matrix(yte, res))"
   ]
  },
  {
   "cell_type": "markdown",
   "metadata": {},
   "source": [
    "# Klassifizieren Sie zusätzlich die Daten aus test100 und schauen Sie sich die Ergebnisse an"
   ]
  },
  {
   "cell_type": "code",
   "execution_count": 73,
   "metadata": {},
   "outputs": [
    {
     "name": "stdout",
     "output_type": "stream",
     "text": [
      "Done\n",
      "4/4 [==============================] - 0s 1ms/step\n",
      "[[0.5007577]\n",
      " [0.5007577]\n",
      " [0.5007577]\n",
      " [0.5007577]\n",
      " [0.5007577]\n",
      " [0.5007577]\n",
      " [0.5007577]\n",
      " [0.5007577]\n",
      " [0.5007577]\n",
      " [0.5007577]\n",
      " [0.5007577]\n",
      " [0.5007577]\n",
      " [0.5007577]\n",
      " [0.5007577]\n",
      " [0.5007577]\n",
      " [0.5007577]\n",
      " [0.5007577]\n",
      " [0.5007577]\n",
      " [0.5007577]\n",
      " [0.5007577]\n",
      " [0.5007577]\n",
      " [0.5007577]\n",
      " [0.5007577]\n",
      " [0.5007577]\n",
      " [0.5007577]\n",
      " [0.5007577]\n",
      " [0.5007577]\n",
      " [0.5007577]\n",
      " [0.5007577]\n",
      " [0.5007577]\n",
      " [0.5007577]\n",
      " [0.5007577]\n",
      " [0.5007577]\n",
      " [0.5007577]\n",
      " [0.5007577]\n",
      " [0.5007577]\n",
      " [0.5007577]\n",
      " [0.5007577]\n",
      " [0.5007577]\n",
      " [0.5007577]\n",
      " [0.5007577]\n",
      " [0.5007577]\n",
      " [0.5007577]\n",
      " [0.5007577]\n",
      " [0.5007577]\n",
      " [0.5007577]\n",
      " [0.5007577]\n",
      " [0.5007577]\n",
      " [0.5007577]\n",
      " [0.5007577]\n",
      " [0.5007577]\n",
      " [0.5007577]\n",
      " [0.5007577]\n",
      " [0.5007577]\n",
      " [0.5007577]\n",
      " [0.5007577]\n",
      " [0.5007577]\n",
      " [0.5007577]\n",
      " [0.5007577]\n",
      " [0.5007577]\n",
      " [0.5007577]\n",
      " [0.5007577]\n",
      " [0.5007577]\n",
      " [0.5007577]\n",
      " [0.5007577]\n",
      " [0.5007577]\n",
      " [0.5007577]\n",
      " [0.5007577]\n",
      " [0.5007577]\n",
      " [0.5007577]\n",
      " [0.5007577]\n",
      " [0.5007577]\n",
      " [0.5007577]\n",
      " [0.5007577]\n",
      " [0.5007577]\n",
      " [0.5007577]\n",
      " [0.5007577]\n",
      " [0.5007577]\n",
      " [0.5007577]\n",
      " [0.5007577]\n",
      " [0.5007577]\n",
      " [0.5007577]\n",
      " [0.5007577]\n",
      " [0.5007577]\n",
      " [0.5007577]\n",
      " [0.5007577]\n",
      " [0.5007577]\n",
      " [0.5007577]\n",
      " [0.5007577]\n",
      " [0.5007577]\n",
      " [0.5007577]\n",
      " [0.5007577]\n",
      " [0.5007577]\n",
      " [0.5007577]\n",
      " [0.5007577]\n",
      " [0.5007577]\n",
      " [0.5007577]\n",
      " [0.5007577]\n",
      " [0.5007577]\n",
      " [0.5007577]]\n"
     ]
    }
   ],
   "source": [
    "def getImg(path):\n",
    "    Xtrain = np.empty((0,3072))\n",
    "    data = os.listdir(path)\n",
    "    for imgName in data:\n",
    "        img = cv2.imread(os.path.join(path,imgName))\n",
    "        Xtrain = np.append(Xtrain, [image_to_feature_vector(img)], axis=0)\n",
    "    print(\"Done\")\n",
    "    return Xtrain\n",
    "\n",
    "Xtest100 = getImg(\"C:\\\\Users\\\\ABleicher\\\\Desktop\\\\test100\")\n",
    "\n",
    "print(nnet.predict(Xtest100))"
   ]
  },
  {
   "cell_type": "markdown",
   "metadata": {},
   "source": [
    "# Verwenden Sie die Merkmalnormierungsmethoden und Testen Sie diese"
   ]
  },
  {
   "cell_type": "code",
   "execution_count": 78,
   "metadata": {},
   "outputs": [
    {
     "name": "stdout",
     "output_type": "stream",
     "text": [
      "Epoch 1/50\n",
      "188/188 [==============================] - 1s 3ms/step - loss: 10.5625 - accuracy: 0.4972\n",
      "Epoch 2/50\n",
      "188/188 [==============================] - 1s 3ms/step - loss: 1.8126 - accuracy: 0.5011\n",
      "Epoch 3/50\n",
      "188/188 [==============================] - 0s 3ms/step - loss: 1.7375 - accuracy: 0.5011\n",
      "Epoch 4/50\n",
      "188/188 [==============================] - 1s 3ms/step - loss: 1.6733 - accuracy: 0.4943\n",
      "Epoch 5/50\n",
      "188/188 [==============================] - 1s 3ms/step - loss: 1.6143 - accuracy: 0.5011\n",
      "Epoch 6/50\n",
      "188/188 [==============================] - 1s 3ms/step - loss: 1.5580 - accuracy: 0.4978\n",
      "Epoch 7/50\n",
      "188/188 [==============================] - 0s 3ms/step - loss: 1.5036 - accuracy: 0.5011\n",
      "Epoch 8/50\n",
      "188/188 [==============================] - 1s 3ms/step - loss: 1.4506 - accuracy: 0.4980\n",
      "Epoch 9/50\n",
      "188/188 [==============================] - 1s 3ms/step - loss: 1.4599 - accuracy: 0.5007\n",
      "Epoch 10/50\n",
      "188/188 [==============================] - 1s 3ms/step - loss: 1.3678 - accuracy: 0.5011\n",
      "Epoch 11/50\n",
      "188/188 [==============================] - 1s 3ms/step - loss: 1.3169 - accuracy: 0.5011\n",
      "Epoch 12/50\n",
      "188/188 [==============================] - 1s 3ms/step - loss: 1.2678 - accuracy: 0.4994\n",
      "Epoch 13/50\n",
      "188/188 [==============================] - 1s 3ms/step - loss: 1.2206 - accuracy: 0.4937\n",
      "Epoch 14/50\n",
      "188/188 [==============================] - 1s 3ms/step - loss: 1.1754 - accuracy: 0.5011\n",
      "Epoch 15/50\n",
      "188/188 [==============================] - 1s 3ms/step - loss: 1.1324 - accuracy: 0.5011\n",
      "Epoch 16/50\n",
      "188/188 [==============================] - 1s 3ms/step - loss: 1.0917 - accuracy: 0.4943\n",
      "Epoch 17/50\n",
      "188/188 [==============================] - 1s 3ms/step - loss: 1.0534 - accuracy: 0.4931\n",
      "Epoch 18/50\n",
      "188/188 [==============================] - 0s 3ms/step - loss: 1.0174 - accuracy: 0.5011\n",
      "Epoch 19/50\n",
      "188/188 [==============================] - 1s 3ms/step - loss: 0.9838 - accuracy: 0.4941\n",
      "Epoch 20/50\n",
      "188/188 [==============================] - 1s 3ms/step - loss: 0.9526 - accuracy: 0.5007\n",
      "Epoch 21/50\n",
      "188/188 [==============================] - 1s 3ms/step - loss: 0.9235 - accuracy: 0.4982\n",
      "Epoch 22/50\n",
      "188/188 [==============================] - 1s 3ms/step - loss: 0.8967 - accuracy: 0.5011\n",
      "Epoch 23/50\n",
      "188/188 [==============================] - 1s 3ms/step - loss: 0.8720 - accuracy: 0.4974\n",
      "Epoch 24/50\n",
      "188/188 [==============================] - 1s 3ms/step - loss: 0.8493 - accuracy: 0.4942\n",
      "Epoch 25/50\n",
      "188/188 [==============================] - 1s 3ms/step - loss: 0.8287 - accuracy: 0.5011\n",
      "Epoch 26/50\n",
      "188/188 [==============================] - 1s 3ms/step - loss: 0.8099 - accuracy: 0.4978\n",
      "Epoch 27/50\n",
      "188/188 [==============================] - 1s 3ms/step - loss: 0.7930 - accuracy: 0.4968\n",
      "Epoch 28/50\n",
      "188/188 [==============================] - 1s 3ms/step - loss: 0.7778 - accuracy: 0.5011\n",
      "Epoch 29/50\n",
      "188/188 [==============================] - 1s 3ms/step - loss: 0.7644 - accuracy: 0.4993\n",
      "Epoch 30/50\n",
      "188/188 [==============================] - 0s 3ms/step - loss: 0.7525 - accuracy: 0.5011\n",
      "Epoch 31/50\n",
      "188/188 [==============================] - 1s 3ms/step - loss: 0.7422 - accuracy: 0.5011\n",
      "Epoch 32/50\n",
      "188/188 [==============================] - 1s 3ms/step - loss: 0.7333 - accuracy: 0.5001\n",
      "Epoch 33/50\n",
      "188/188 [==============================] - 1s 3ms/step - loss: 0.7257 - accuracy: 0.4979\n",
      "Epoch 34/50\n",
      "188/188 [==============================] - 1s 3ms/step - loss: 0.7194 - accuracy: 0.5011\n",
      "Epoch 35/50\n",
      "188/188 [==============================] - 1s 3ms/step - loss: 0.7142 - accuracy: 0.4950\n",
      "Epoch 36/50\n",
      "188/188 [==============================] - 1s 3ms/step - loss: 0.7100 - accuracy: 0.5011\n",
      "Epoch 37/50\n",
      "188/188 [==============================] - 1s 3ms/step - loss: 0.7067 - accuracy: 0.4939\n",
      "Epoch 38/50\n",
      "188/188 [==============================] - 1s 3ms/step - loss: 0.7040 - accuracy: 0.5011\n",
      "Epoch 39/50\n",
      "188/188 [==============================] - 0s 3ms/step - loss: 0.7020 - accuracy: 0.4997\n",
      "Epoch 40/50\n",
      "188/188 [==============================] - 1s 3ms/step - loss: 0.7004 - accuracy: 0.5011\n",
      "Epoch 41/50\n",
      "188/188 [==============================] - 0s 3ms/step - loss: 0.6993 - accuracy: 0.4997\n",
      "Epoch 42/50\n",
      "188/188 [==============================] - 1s 3ms/step - loss: 0.7264 - accuracy: 0.5022\n",
      "Epoch 43/50\n",
      "188/188 [==============================] - 1s 3ms/step - loss: 0.7259 - accuracy: 0.4981\n",
      "Epoch 44/50\n",
      "188/188 [==============================] - 1s 3ms/step - loss: 0.7233 - accuracy: 0.5011\n",
      "Epoch 45/50\n",
      "188/188 [==============================] - 1s 3ms/step - loss: 0.7208 - accuracy: 0.5011\n",
      "Epoch 46/50\n",
      "188/188 [==============================] - 1s 3ms/step - loss: 0.7184 - accuracy: 0.5011\n",
      "Epoch 47/50\n",
      "188/188 [==============================] - 1s 3ms/step - loss: 0.7161 - accuracy: 0.4989\n",
      "Epoch 48/50\n",
      "188/188 [==============================] - 1s 3ms/step - loss: 0.7172 - accuracy: 0.4990\n",
      "Epoch 49/50\n",
      "188/188 [==============================] - 1s 3ms/step - loss: 0.7127 - accuracy: 0.5011\n",
      "Epoch 50/50\n",
      "188/188 [==============================] - 1s 3ms/step - loss: 0.7096 - accuracy: 0.4963\n"
     ]
    },
    {
     "data": {
      "text/plain": [
       "<keras.callbacks.History at 0x1e8c73812b0>"
      ]
     },
     "execution_count": 78,
     "metadata": {},
     "output_type": "execute_result"
    }
   ],
   "source": [
    "from tensorflow.keras import regularizers\n",
    "nnet = Sequential()\n",
    "nnet.add(Dense(64, kernel_regularizer=regularizers.l2(0.01), input_dim=3072, activation='relu'))\n",
    "#nnet.add(Dense(64, activation='relu'))\n",
    "#nnet.add(Dense(5, activation='relu'))\n",
    "nnet.add(Dense(1, kernel_regularizer=regularizers.l2(0.01), activation='sigmoid'))\n",
    "\n",
    "nnet.compile(optimizer='adam', loss='binary_crossentropy', metrics=['accuracy'])\n",
    "nnet.fit(Xtr, ytr, epochs=50, batch_size=100)"
   ]
  },
  {
   "cell_type": "code",
   "execution_count": null,
   "metadata": {},
   "outputs": [],
   "source": []
  }
 ],
 "metadata": {
  "kernelspec": {
   "display_name": "Python 3 (ipykernel)",
   "language": "python",
   "name": "python3"
  },
  "language_info": {
   "codemirror_mode": {
    "name": "ipython",
    "version": 3
   },
   "file_extension": ".py",
   "mimetype": "text/x-python",
   "name": "python",
   "nbconvert_exporter": "python",
   "pygments_lexer": "ipython3",
   "version": "3.9.13"
  }
 },
 "nbformat": 4,
 "nbformat_minor": 4
}
