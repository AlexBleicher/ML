{
 "cells": [
  {
   "cell_type": "markdown",
   "metadata": {
    "pycharm": {
     "name": "#%% md\n"
    }
   },
   "source": [
    "# Notebook für Exercise 9\n",
    "\n",
    "In dieser Übung wollen wir die grundlegende Regression behandeln.\n",
    "Als Beispieldaten verwenden wir Daten von Kraftfahrzeugen.\n",
    "An diesen Daten soll der Zusammenhang der Kraftstoffeffizienz und verschiedener\n",
    "Kraftfahrzeugeigenschaften berechnet werden."
   ]
  },
  {
   "cell_type": "code",
   "execution_count": 1,
   "metadata": {
    "collapsed": false,
    "jupyter": {
     "outputs_hidden": false
    },
    "pycharm": {
     "name": "#%%\n"
    }
   },
   "outputs": [],
   "source": [
    "## Setup\n",
    "import matplotlib.pyplot as plt\n",
    "import numpy as np\n",
    "import pandas as pd\n",
    "np.set_printoptions(precision=3, suppress=True)\n",
    "import tensorflow as tf\n",
    "\n",
    "from tensorflow import keras\n",
    "from tensorflow.keras import layers\n",
    "from tensorflow.keras.layers.experimental import preprocessing\n",
    "\n",
    "from matplotlib import pyplot as plt"
   ]
  },
  {
   "cell_type": "markdown",
   "metadata": {
    "pycharm": {
     "name": "#%% md\n"
    }
   },
   "source": [
    "Verwenden Sie folgende Url: ['http://archive.ics.uci.edu/ml/machine-learning-databases/auto-mpg/auto-mpg.data']('http://archive.ics.uci.edu/ml/machine-learning-databases/auto-mpg/auto-mpg.data').\n",
    "\n",
    "Laden Sie mit der Pandas-Funktion read_csv die Daten."
   ]
  },
  {
   "cell_type": "code",
   "execution_count": 2,
   "metadata": {},
   "outputs": [
    {
     "data": {
      "text/html": [
       "<div>\n",
       "<style scoped>\n",
       "    .dataframe tbody tr th:only-of-type {\n",
       "        vertical-align: middle;\n",
       "    }\n",
       "\n",
       "    .dataframe tbody tr th {\n",
       "        vertical-align: top;\n",
       "    }\n",
       "\n",
       "    .dataframe thead th {\n",
       "        text-align: right;\n",
       "    }\n",
       "</style>\n",
       "<table border=\"1\" class=\"dataframe\">\n",
       "  <thead>\n",
       "    <tr style=\"text-align: right;\">\n",
       "      <th></th>\n",
       "      <th>MPG</th>\n",
       "      <th>Cylinders</th>\n",
       "      <th>Displacement</th>\n",
       "      <th>Horsepower</th>\n",
       "      <th>Weight</th>\n",
       "      <th>Acceleration</th>\n",
       "      <th>Model Year</th>\n",
       "      <th>Origin</th>\n",
       "    </tr>\n",
       "  </thead>\n",
       "  <tbody>\n",
       "    <tr>\n",
       "      <th>0</th>\n",
       "      <td>18.0</td>\n",
       "      <td>8</td>\n",
       "      <td>307.0</td>\n",
       "      <td>130.0</td>\n",
       "      <td>3504.0</td>\n",
       "      <td>12.0</td>\n",
       "      <td>70</td>\n",
       "      <td>1</td>\n",
       "    </tr>\n",
       "    <tr>\n",
       "      <th>1</th>\n",
       "      <td>15.0</td>\n",
       "      <td>8</td>\n",
       "      <td>350.0</td>\n",
       "      <td>165.0</td>\n",
       "      <td>3693.0</td>\n",
       "      <td>11.5</td>\n",
       "      <td>70</td>\n",
       "      <td>1</td>\n",
       "    </tr>\n",
       "    <tr>\n",
       "      <th>2</th>\n",
       "      <td>18.0</td>\n",
       "      <td>8</td>\n",
       "      <td>318.0</td>\n",
       "      <td>150.0</td>\n",
       "      <td>3436.0</td>\n",
       "      <td>11.0</td>\n",
       "      <td>70</td>\n",
       "      <td>1</td>\n",
       "    </tr>\n",
       "    <tr>\n",
       "      <th>3</th>\n",
       "      <td>16.0</td>\n",
       "      <td>8</td>\n",
       "      <td>304.0</td>\n",
       "      <td>150.0</td>\n",
       "      <td>3433.0</td>\n",
       "      <td>12.0</td>\n",
       "      <td>70</td>\n",
       "      <td>1</td>\n",
       "    </tr>\n",
       "    <tr>\n",
       "      <th>4</th>\n",
       "      <td>17.0</td>\n",
       "      <td>8</td>\n",
       "      <td>302.0</td>\n",
       "      <td>140.0</td>\n",
       "      <td>3449.0</td>\n",
       "      <td>10.5</td>\n",
       "      <td>70</td>\n",
       "      <td>1</td>\n",
       "    </tr>\n",
       "  </tbody>\n",
       "</table>\n",
       "</div>"
      ],
      "text/plain": [
       "    MPG  Cylinders  Displacement  Horsepower  Weight  Acceleration  \\\n",
       "0  18.0          8         307.0       130.0  3504.0          12.0   \n",
       "1  15.0          8         350.0       165.0  3693.0          11.5   \n",
       "2  18.0          8         318.0       150.0  3436.0          11.0   \n",
       "3  16.0          8         304.0       150.0  3433.0          12.0   \n",
       "4  17.0          8         302.0       140.0  3449.0          10.5   \n",
       "\n",
       "   Model Year  Origin  \n",
       "0          70       1  \n",
       "1          70       1  \n",
       "2          70       1  \n",
       "3          70       1  \n",
       "4          70       1  "
      ]
     },
     "execution_count": 2,
     "metadata": {},
     "output_type": "execute_result"
    }
   ],
   "source": [
    "# Laden der Daten von Url mit Benennung der Spalten\n",
    "url = 'http://archive.ics.uci.edu/ml/machine-learning-databases/auto-mpg/auto-mpg.data'\n",
    "column_names = ['MPG', 'Cylinders', 'Displacement', 'Horsepower', 'Weight',\n",
    "                'Acceleration', 'Model Year', 'Origin']\n",
    "raw_dataset = pd.read_csv( url , names=column_names,\n",
    "                          na_values='?', comment='\\t',\n",
    "                          sep=' ', skipinitialspace=True)\n",
    "dataset = raw_dataset.copy()\n",
    "#plt.title('Distribution of stds of all columns');\n",
    "dataset.head()"
   ]
  },
  {
   "cell_type": "markdown",
   "metadata": {
    "pycharm": {
     "name": "#%% md\n"
    }
   },
   "source": [
    "### Aufgabe 1\n",
    "Bei frei verfügbaren Datensets gibt es oft das Problem, dass Werte in den Spalten fehlen. Damit bei den späteren Berechnungen\n",
    "keine Fehler entstehen ist es also notwendig die Daten zu bereinigen. Am Einfachsten wirft man unvollständige Daten weg.\n",
    "Bereinigen Sie die Daten von fehlerhaften Einträgen. Am einfachsten funktioniert dies mit den Methoden  *pandas.DataFrame.dropna()* bzw *.isna()*"
   ]
  },
  {
   "cell_type": "code",
   "execution_count": 3,
   "metadata": {
    "collapsed": false,
    "jupyter": {
     "outputs_hidden": false
    },
    "pycharm": {
     "name": "#%%\n"
    }
   },
   "outputs": [],
   "source": [
    "dataset=pd.DataFrame.dropna(dataset)"
   ]
  },
  {
   "cell_type": "markdown",
   "metadata": {
    "pycharm": {
     "name": "#%% md\n"
    }
   },
   "source": [
    "### Aufgabe 2\n",
    "Oftmals sind in den Daten Werte kategorisch. Es bietet Sich an diese in ein \"one-hot\" umzuwandeln.\n",
    "In diesen Daten ist die Herkunft ('Origin') kategorisch. Ordnen Sie die Daten als \"one-hot\" verschiedenen Spalten zu ('USA'=1 , 'Europe'=2, 'Japan=3')."
   ]
  },
  {
   "cell_type": "code",
   "execution_count": 4,
   "metadata": {
    "collapsed": false,
    "jupyter": {
     "outputs_hidden": false
    },
    "pycharm": {
     "name": "#%%\n"
    }
   },
   "outputs": [
    {
     "name": "stdout",
     "output_type": "stream",
     "text": [
      "      MPG  Cylinders  Displacement  Horsepower  Weight  Acceleration  \\\n",
      "0    18.0          8         307.0       130.0  3504.0          12.0   \n",
      "1    15.0          8         350.0       165.0  3693.0          11.5   \n",
      "2    18.0          8         318.0       150.0  3436.0          11.0   \n",
      "3    16.0          8         304.0       150.0  3433.0          12.0   \n",
      "4    17.0          8         302.0       140.0  3449.0          10.5   \n",
      "..    ...        ...           ...         ...     ...           ...   \n",
      "393  27.0          4         140.0        86.0  2790.0          15.6   \n",
      "394  44.0          4          97.0        52.0  2130.0          24.6   \n",
      "395  32.0          4         135.0        84.0  2295.0          11.6   \n",
      "396  28.0          4         120.0        79.0  2625.0          18.6   \n",
      "397  31.0          4         119.0        82.0  2720.0          19.4   \n",
      "\n",
      "     Model Year  USA  Europe  Japan  \n",
      "0            70    1       0      0  \n",
      "1            70    1       0      0  \n",
      "2            70    1       0      0  \n",
      "3            70    1       0      0  \n",
      "4            70    1       0      0  \n",
      "..          ...  ...     ...    ...  \n",
      "393          82    1       0      0  \n",
      "394          82    0       1      0  \n",
      "395          82    1       0      0  \n",
      "396          82    1       0      0  \n",
      "397          82    1       0      0  \n",
      "\n",
      "[392 rows x 10 columns]\n"
     ]
    }
   ],
   "source": [
    "# Verwandlung von kategorischen Daten und \"one-hot\"\n",
    "originOneHot = pd.get_dummies(dataset['Origin'])\n",
    "#print(originOneHot)\n",
    "datasetWithoutOrigin=dataset.drop(['Origin'], axis=1)\n",
    "datasetOneHotEncoded=datasetWithoutOrigin.assign(USA=originOneHot[1], Europe=originOneHot[2], Japan=originOneHot[3])\n",
    "print(datasetOneHotEncoded)\n",
    "#Nötig, da sonst Herkunftsländer eine Gewichtung hätten"
   ]
  },
  {
   "cell_type": "markdown",
   "metadata": {
    "pycharm": {
     "name": "#%% md\n"
    }
   },
   "source": [
    "### Aufgabe 3\n",
    "Nun haben wir die Daten in einer verarbeitbaren Form. Teilen Sie die Daten in ein Trainings- und Testset auf. Gehen Sie dabei randomisiert vor."
   ]
  },
  {
   "cell_type": "code",
   "execution_count": 5,
   "metadata": {
    "collapsed": false,
    "jupyter": {
     "outputs_hidden": false
    },
    "pycharm": {
     "name": "#%%\n"
    }
   },
   "outputs": [
    {
     "name": "stdout",
     "output_type": "stream",
     "text": [
      "(294, 10)\n",
      "(98, 10)\n",
      "      MPG  Cylinders  Displacement  Horsepower  Weight  Acceleration  \\\n",
      "225  17.5          6         250.0       110.0  3520.0          16.4   \n",
      "38   14.0          8         350.0       165.0  4209.0          12.0   \n",
      "175  29.0          4          90.0        70.0  1937.0          14.0   \n",
      "203  29.5          4          97.0        71.0  1825.0          12.2   \n",
      "178  23.0          4         120.0        88.0  2957.0          17.0   \n",
      "\n",
      "     Model Year  USA  Europe  Japan  \n",
      "225          77    1       0      0  \n",
      "38           71    1       0      0  \n",
      "175          75    0       1      0  \n",
      "203          76    0       1      0  \n",
      "178          75    0       1      0  \n"
     ]
    }
   ],
   "source": [
    "# Aufteilen der Daten in Train- und Testset\n",
    "from sklearn.model_selection import train_test_split\n",
    "\n",
    "(Xtr, Xte) = train_test_split(datasetOneHotEncoded)\n",
    "print(Xtr.shape)\n",
    "print(Xte.shape)\n",
    "print(Xtr.head())"
   ]
  },
  {
   "cell_type": "markdown",
   "metadata": {
    "pycharm": {
     "name": "#%% md\n"
    }
   },
   "source": [
    "### Aufgabe 4\n",
    "Im Allgemeinen verschafft man sich beim Aufbau eines Regressionssystems einen Überblick über die Daten.\n",
    "Plotten Sie in einer Scattermatrix die Korrellationen der Verschiedenen Daten zueinander, mit Focus auf die Kraftstoffeffizienz ('MPG')\n",
    "Dies kann mit der Pandas-Funtion plotting.scatter_matrix geschehen. Es sollen 'MPG' , 'Cylinders' , 'Displacement' ,  'Horsepower' zueinander korrelliert werden."
   ]
  },
  {
   "cell_type": "code",
   "execution_count": 6,
   "metadata": {
    "collapsed": false,
    "jupyter": {
     "outputs_hidden": false
    },
    "pycharm": {
     "name": "#%%\n"
    }
   },
   "outputs": [
    {
     "data": {
      "text/plain": [
       "array([[<AxesSubplot:xlabel='MPG', ylabel='MPG'>,\n",
       "        <AxesSubplot:xlabel='Cylinders', ylabel='MPG'>,\n",
       "        <AxesSubplot:xlabel='Displacement', ylabel='MPG'>,\n",
       "        <AxesSubplot:xlabel='Horsepower', ylabel='MPG'>],\n",
       "       [<AxesSubplot:xlabel='MPG', ylabel='Cylinders'>,\n",
       "        <AxesSubplot:xlabel='Cylinders', ylabel='Cylinders'>,\n",
       "        <AxesSubplot:xlabel='Displacement', ylabel='Cylinders'>,\n",
       "        <AxesSubplot:xlabel='Horsepower', ylabel='Cylinders'>],\n",
       "       [<AxesSubplot:xlabel='MPG', ylabel='Displacement'>,\n",
       "        <AxesSubplot:xlabel='Cylinders', ylabel='Displacement'>,\n",
       "        <AxesSubplot:xlabel='Displacement', ylabel='Displacement'>,\n",
       "        <AxesSubplot:xlabel='Horsepower', ylabel='Displacement'>],\n",
       "       [<AxesSubplot:xlabel='MPG', ylabel='Horsepower'>,\n",
       "        <AxesSubplot:xlabel='Cylinders', ylabel='Horsepower'>,\n",
       "        <AxesSubplot:xlabel='Displacement', ylabel='Horsepower'>,\n",
       "        <AxesSubplot:xlabel='Horsepower', ylabel='Horsepower'>]],\n",
       "      dtype=object)"
      ]
     },
     "execution_count": 6,
     "metadata": {},
     "output_type": "execute_result"
    },
    {
     "data": {
      "image/png": "[encoded data removed]",
      "text/plain": [
       "<Figure size 640x480 with 16 Axes>"
      ]
     },
     "metadata": {},
     "output_type": "display_data"
    }
   ],
   "source": [
    "df = pd.DataFrame(Xtr, columns=['MPG', 'Cylinders', 'Displacement', 'Horsepower'])\n",
    "pd.plotting.scatter_matrix(df)"
   ]
  },
  {
   "cell_type": "code",
   "execution_count": 7,
   "metadata": {
    "collapsed": false,
    "jupyter": {
     "outputs_hidden": false
    },
    "pycharm": {
     "name": "#%%\n"
    }
   },
   "outputs": [
    {
     "data": {
      "text/html": [
       "<div>\n",
       "<style scoped>\n",
       "    .dataframe tbody tr th:only-of-type {\n",
       "        vertical-align: middle;\n",
       "    }\n",
       "\n",
       "    .dataframe tbody tr th {\n",
       "        vertical-align: top;\n",
       "    }\n",
       "\n",
       "    .dataframe thead th {\n",
       "        text-align: right;\n",
       "    }\n",
       "</style>\n",
       "<table border=\"1\" class=\"dataframe\">\n",
       "  <thead>\n",
       "    <tr style=\"text-align: right;\">\n",
       "      <th></th>\n",
       "      <th>MPG</th>\n",
       "      <th>Cylinders</th>\n",
       "      <th>Displacement</th>\n",
       "      <th>Horsepower</th>\n",
       "      <th>Weight</th>\n",
       "      <th>Acceleration</th>\n",
       "      <th>Model Year</th>\n",
       "      <th>USA</th>\n",
       "      <th>Europe</th>\n",
       "      <th>Japan</th>\n",
       "    </tr>\n",
       "  </thead>\n",
       "  <tbody>\n",
       "    <tr>\n",
       "      <th>count</th>\n",
       "      <td>294.000000</td>\n",
       "      <td>294.000000</td>\n",
       "      <td>294.000000</td>\n",
       "      <td>294.000000</td>\n",
       "      <td>294.000000</td>\n",
       "      <td>294.000000</td>\n",
       "      <td>294.000000</td>\n",
       "      <td>294.000000</td>\n",
       "      <td>294.000000</td>\n",
       "      <td>294.000000</td>\n",
       "    </tr>\n",
       "    <tr>\n",
       "      <th>mean</th>\n",
       "      <td>23.230272</td>\n",
       "      <td>5.523810</td>\n",
       "      <td>195.750000</td>\n",
       "      <td>103.959184</td>\n",
       "      <td>2992.605442</td>\n",
       "      <td>15.630272</td>\n",
       "      <td>75.986395</td>\n",
       "      <td>0.632653</td>\n",
       "      <td>0.176871</td>\n",
       "      <td>0.190476</td>\n",
       "    </tr>\n",
       "    <tr>\n",
       "      <th>std</th>\n",
       "      <td>7.685757</td>\n",
       "      <td>1.702571</td>\n",
       "      <td>101.707921</td>\n",
       "      <td>36.859826</td>\n",
       "      <td>830.135534</td>\n",
       "      <td>2.748602</td>\n",
       "      <td>3.641787</td>\n",
       "      <td>0.482904</td>\n",
       "      <td>0.382210</td>\n",
       "      <td>0.393346</td>\n",
       "    </tr>\n",
       "    <tr>\n",
       "      <th>min</th>\n",
       "      <td>9.000000</td>\n",
       "      <td>3.000000</td>\n",
       "      <td>68.000000</td>\n",
       "      <td>46.000000</td>\n",
       "      <td>1649.000000</td>\n",
       "      <td>8.000000</td>\n",
       "      <td>70.000000</td>\n",
       "      <td>0.000000</td>\n",
       "      <td>0.000000</td>\n",
       "      <td>0.000000</td>\n",
       "    </tr>\n",
       "    <tr>\n",
       "      <th>25%</th>\n",
       "      <td>17.000000</td>\n",
       "      <td>4.000000</td>\n",
       "      <td>107.000000</td>\n",
       "      <td>75.250000</td>\n",
       "      <td>2257.250000</td>\n",
       "      <td>13.725000</td>\n",
       "      <td>73.000000</td>\n",
       "      <td>0.000000</td>\n",
       "      <td>0.000000</td>\n",
       "      <td>0.000000</td>\n",
       "    </tr>\n",
       "    <tr>\n",
       "      <th>50%</th>\n",
       "      <td>22.000000</td>\n",
       "      <td>4.500000</td>\n",
       "      <td>151.000000</td>\n",
       "      <td>95.000000</td>\n",
       "      <td>2869.000000</td>\n",
       "      <td>15.500000</td>\n",
       "      <td>76.000000</td>\n",
       "      <td>1.000000</td>\n",
       "      <td>0.000000</td>\n",
       "      <td>0.000000</td>\n",
       "    </tr>\n",
       "    <tr>\n",
       "      <th>75%</th>\n",
       "      <td>28.075000</td>\n",
       "      <td>8.000000</td>\n",
       "      <td>293.250000</td>\n",
       "      <td>125.000000</td>\n",
       "      <td>3612.000000</td>\n",
       "      <td>17.275000</td>\n",
       "      <td>79.000000</td>\n",
       "      <td>1.000000</td>\n",
       "      <td>0.000000</td>\n",
       "      <td>0.000000</td>\n",
       "    </tr>\n",
       "    <tr>\n",
       "      <th>max</th>\n",
       "      <td>46.600000</td>\n",
       "      <td>8.000000</td>\n",
       "      <td>455.000000</td>\n",
       "      <td>230.000000</td>\n",
       "      <td>4997.000000</td>\n",
       "      <td>24.800000</td>\n",
       "      <td>82.000000</td>\n",
       "      <td>1.000000</td>\n",
       "      <td>1.000000</td>\n",
       "      <td>1.000000</td>\n",
       "    </tr>\n",
       "  </tbody>\n",
       "</table>\n",
       "</div>"
      ],
      "text/plain": [
       "              MPG   Cylinders  Displacement  Horsepower       Weight  \\\n",
       "count  294.000000  294.000000    294.000000  294.000000   294.000000   \n",
       "mean    23.230272    5.523810    195.750000  103.959184  2992.605442   \n",
       "std      7.685757    1.702571    101.707921   36.859826   830.135534   \n",
       "min      9.000000    3.000000     68.000000   46.000000  1649.000000   \n",
       "25%     17.000000    4.000000    107.000000   75.250000  2257.250000   \n",
       "50%     22.000000    4.500000    151.000000   95.000000  2869.000000   \n",
       "75%     28.075000    8.000000    293.250000  125.000000  3612.000000   \n",
       "max     46.600000    8.000000    455.000000  230.000000  4997.000000   \n",
       "\n",
       "       Acceleration  Model Year         USA      Europe       Japan  \n",
       "count    294.000000  294.000000  294.000000  294.000000  294.000000  \n",
       "mean      15.630272   75.986395    0.632653    0.176871    0.190476  \n",
       "std        2.748602    3.641787    0.482904    0.382210    0.393346  \n",
       "min        8.000000   70.000000    0.000000    0.000000    0.000000  \n",
       "25%       13.725000   73.000000    0.000000    0.000000    0.000000  \n",
       "50%       15.500000   76.000000    1.000000    0.000000    0.000000  \n",
       "75%       17.275000   79.000000    1.000000    0.000000    0.000000  \n",
       "max       24.800000   82.000000    1.000000    1.000000    1.000000  "
      ]
     },
     "execution_count": 7,
     "metadata": {},
     "output_type": "execute_result"
    }
   ],
   "source": [
    "# Anzeigen der Statistik\n",
    "Xtr.describe()"
   ]
  },
  {
   "cell_type": "markdown",
   "metadata": {
    "pycharm": {
     "name": "#%% md\n"
    }
   },
   "source": [
    "### Aufgabe 5\n",
    "Wenn wir eine Regression berechnen wollen müssen wir den Zielwert von den Daten trennen. Trennen Sie den Zielwert ('MPG') von den Daten."
   ]
  },
  {
   "cell_type": "code",
   "execution_count": 8,
   "metadata": {
    "collapsed": false,
    "jupyter": {
     "outputs_hidden": false
    },
    "pycharm": {
     "name": "#%%\n"
    }
   },
   "outputs": [
    {
     "name": "stdout",
     "output_type": "stream",
     "text": [
      "225    17.5\n",
      "38     14.0\n",
      "175    29.0\n",
      "203    29.5\n",
      "178    23.0\n",
      "       ... \n",
      "227    19.0\n",
      "392    27.0\n",
      "69     12.0\n",
      "115    15.0\n",
      "134    16.0\n",
      "Name: MPG, Length: 294, dtype: float64\n"
     ]
    },
    {
     "data": {
      "text/html": [
       "<div>\n",
       "<style scoped>\n",
       "    .dataframe tbody tr th:only-of-type {\n",
       "        vertical-align: middle;\n",
       "    }\n",
       "\n",
       "    .dataframe tbody tr th {\n",
       "        vertical-align: top;\n",
       "    }\n",
       "\n",
       "    .dataframe thead th {\n",
       "        text-align: right;\n",
       "    }\n",
       "</style>\n",
       "<table border=\"1\" class=\"dataframe\">\n",
       "  <thead>\n",
       "    <tr style=\"text-align: right;\">\n",
       "      <th></th>\n",
       "      <th>Cylinders</th>\n",
       "      <th>Displacement</th>\n",
       "      <th>Horsepower</th>\n",
       "      <th>Weight</th>\n",
       "      <th>Acceleration</th>\n",
       "      <th>Model Year</th>\n",
       "      <th>USA</th>\n",
       "      <th>Europe</th>\n",
       "      <th>Japan</th>\n",
       "    </tr>\n",
       "  </thead>\n",
       "  <tbody>\n",
       "    <tr>\n",
       "      <th>count</th>\n",
       "      <td>294.000000</td>\n",
       "      <td>294.000000</td>\n",
       "      <td>294.000000</td>\n",
       "      <td>294.000000</td>\n",
       "      <td>294.000000</td>\n",
       "      <td>294.000000</td>\n",
       "      <td>294.000000</td>\n",
       "      <td>294.000000</td>\n",
       "      <td>294.000000</td>\n",
       "    </tr>\n",
       "    <tr>\n",
       "      <th>mean</th>\n",
       "      <td>5.523810</td>\n",
       "      <td>195.750000</td>\n",
       "      <td>103.959184</td>\n",
       "      <td>2992.605442</td>\n",
       "      <td>15.630272</td>\n",
       "      <td>75.986395</td>\n",
       "      <td>0.632653</td>\n",
       "      <td>0.176871</td>\n",
       "      <td>0.190476</td>\n",
       "    </tr>\n",
       "    <tr>\n",
       "      <th>std</th>\n",
       "      <td>1.702571</td>\n",
       "      <td>101.707921</td>\n",
       "      <td>36.859826</td>\n",
       "      <td>830.135534</td>\n",
       "      <td>2.748602</td>\n",
       "      <td>3.641787</td>\n",
       "      <td>0.482904</td>\n",
       "      <td>0.382210</td>\n",
       "      <td>0.393346</td>\n",
       "    </tr>\n",
       "    <tr>\n",
       "      <th>min</th>\n",
       "      <td>3.000000</td>\n",
       "      <td>68.000000</td>\n",
       "      <td>46.000000</td>\n",
       "      <td>1649.000000</td>\n",
       "      <td>8.000000</td>\n",
       "      <td>70.000000</td>\n",
       "      <td>0.000000</td>\n",
       "      <td>0.000000</td>\n",
       "      <td>0.000000</td>\n",
       "    </tr>\n",
       "    <tr>\n",
       "      <th>25%</th>\n",
       "      <td>4.000000</td>\n",
       "      <td>107.000000</td>\n",
       "      <td>75.250000</td>\n",
       "      <td>2257.250000</td>\n",
       "      <td>13.725000</td>\n",
       "      <td>73.000000</td>\n",
       "      <td>0.000000</td>\n",
       "      <td>0.000000</td>\n",
       "      <td>0.000000</td>\n",
       "    </tr>\n",
       "    <tr>\n",
       "      <th>50%</th>\n",
       "      <td>4.500000</td>\n",
       "      <td>151.000000</td>\n",
       "      <td>95.000000</td>\n",
       "      <td>2869.000000</td>\n",
       "      <td>15.500000</td>\n",
       "      <td>76.000000</td>\n",
       "      <td>1.000000</td>\n",
       "      <td>0.000000</td>\n",
       "      <td>0.000000</td>\n",
       "    </tr>\n",
       "    <tr>\n",
       "      <th>75%</th>\n",
       "      <td>8.000000</td>\n",
       "      <td>293.250000</td>\n",
       "      <td>125.000000</td>\n",
       "      <td>3612.000000</td>\n",
       "      <td>17.275000</td>\n",
       "      <td>79.000000</td>\n",
       "      <td>1.000000</td>\n",
       "      <td>0.000000</td>\n",
       "      <td>0.000000</td>\n",
       "    </tr>\n",
       "    <tr>\n",
       "      <th>max</th>\n",
       "      <td>8.000000</td>\n",
       "      <td>455.000000</td>\n",
       "      <td>230.000000</td>\n",
       "      <td>4997.000000</td>\n",
       "      <td>24.800000</td>\n",
       "      <td>82.000000</td>\n",
       "      <td>1.000000</td>\n",
       "      <td>1.000000</td>\n",
       "      <td>1.000000</td>\n",
       "    </tr>\n",
       "  </tbody>\n",
       "</table>\n",
       "</div>"
      ],
      "text/plain": [
       "        Cylinders  Displacement  Horsepower       Weight  Acceleration  \\\n",
       "count  294.000000    294.000000  294.000000   294.000000    294.000000   \n",
       "mean     5.523810    195.750000  103.959184  2992.605442     15.630272   \n",
       "std      1.702571    101.707921   36.859826   830.135534      2.748602   \n",
       "min      3.000000     68.000000   46.000000  1649.000000      8.000000   \n",
       "25%      4.000000    107.000000   75.250000  2257.250000     13.725000   \n",
       "50%      4.500000    151.000000   95.000000  2869.000000     15.500000   \n",
       "75%      8.000000    293.250000  125.000000  3612.000000     17.275000   \n",
       "max      8.000000    455.000000  230.000000  4997.000000     24.800000   \n",
       "\n",
       "       Model Year         USA      Europe       Japan  \n",
       "count  294.000000  294.000000  294.000000  294.000000  \n",
       "mean    75.986395    0.632653    0.176871    0.190476  \n",
       "std      3.641787    0.482904    0.382210    0.393346  \n",
       "min     70.000000    0.000000    0.000000    0.000000  \n",
       "25%     73.000000    0.000000    0.000000    0.000000  \n",
       "50%     76.000000    1.000000    0.000000    0.000000  \n",
       "75%     79.000000    1.000000    0.000000    0.000000  \n",
       "max     82.000000    1.000000    1.000000    1.000000  "
      ]
     },
     "execution_count": 8,
     "metadata": {},
     "output_type": "execute_result"
    }
   ],
   "source": [
    "ytr = Xtr['MPG']\n",
    "print(ytr)\n",
    "Xtr = Xtr.drop('MPG', axis=1)\n",
    "Xtr.describe()"
   ]
  },
  {
   "cell_type": "code",
   "execution_count": 9,
   "metadata": {
    "collapsed": false,
    "jupyter": {
     "outputs_hidden": false
    },
    "pycharm": {
     "name": "#%%\n"
    }
   },
   "outputs": [
    {
     "name": "stdout",
     "output_type": "stream",
     "text": [
      "128    15.0\n",
      "368    27.0\n",
      "315    24.3\n",
      "125    20.0\n",
      "223    15.5\n",
      "       ... \n",
      "304    37.3\n",
      "25     10.0\n",
      "150    26.0\n",
      "342    30.0\n",
      "232    16.0\n",
      "Name: MPG, Length: 98, dtype: float64\n"
     ]
    },
    {
     "data": {
      "text/html": [
       "<div>\n",
       "<style scoped>\n",
       "    .dataframe tbody tr th:only-of-type {\n",
       "        vertical-align: middle;\n",
       "    }\n",
       "\n",
       "    .dataframe tbody tr th {\n",
       "        vertical-align: top;\n",
       "    }\n",
       "\n",
       "    .dataframe thead th {\n",
       "        text-align: right;\n",
       "    }\n",
       "</style>\n",
       "<table border=\"1\" class=\"dataframe\">\n",
       "  <thead>\n",
       "    <tr style=\"text-align: right;\">\n",
       "      <th></th>\n",
       "      <th>Cylinders</th>\n",
       "      <th>Displacement</th>\n",
       "      <th>Horsepower</th>\n",
       "      <th>Weight</th>\n",
       "      <th>Acceleration</th>\n",
       "      <th>Model Year</th>\n",
       "      <th>USA</th>\n",
       "      <th>Europe</th>\n",
       "      <th>Japan</th>\n",
       "    </tr>\n",
       "  </thead>\n",
       "  <tbody>\n",
       "    <tr>\n",
       "      <th>count</th>\n",
       "      <td>98.000000</td>\n",
       "      <td>98.000000</td>\n",
       "      <td>98.000000</td>\n",
       "      <td>98.000000</td>\n",
       "      <td>98.000000</td>\n",
       "      <td>98.000000</td>\n",
       "      <td>98.000000</td>\n",
       "      <td>98.000000</td>\n",
       "      <td>98.000000</td>\n",
       "    </tr>\n",
       "    <tr>\n",
       "      <th>mean</th>\n",
       "      <td>5.316327</td>\n",
       "      <td>190.397959</td>\n",
       "      <td>106.000000</td>\n",
       "      <td>2932.520408</td>\n",
       "      <td>15.274490</td>\n",
       "      <td>75.959184</td>\n",
       "      <td>0.602041</td>\n",
       "      <td>0.163265</td>\n",
       "      <td>0.234694</td>\n",
       "    </tr>\n",
       "    <tr>\n",
       "      <th>std</th>\n",
       "      <td>1.714685</td>\n",
       "      <td>113.453268</td>\n",
       "      <td>43.185526</td>\n",
       "      <td>907.707799</td>\n",
       "      <td>2.786503</td>\n",
       "      <td>3.825898</td>\n",
       "      <td>0.491994</td>\n",
       "      <td>0.371508</td>\n",
       "      <td>0.425986</td>\n",
       "    </tr>\n",
       "    <tr>\n",
       "      <th>min</th>\n",
       "      <td>3.000000</td>\n",
       "      <td>70.000000</td>\n",
       "      <td>52.000000</td>\n",
       "      <td>1613.000000</td>\n",
       "      <td>8.500000</td>\n",
       "      <td>70.000000</td>\n",
       "      <td>0.000000</td>\n",
       "      <td>0.000000</td>\n",
       "      <td>0.000000</td>\n",
       "    </tr>\n",
       "    <tr>\n",
       "      <th>25%</th>\n",
       "      <td>4.000000</td>\n",
       "      <td>97.000000</td>\n",
       "      <td>75.250000</td>\n",
       "      <td>2161.250000</td>\n",
       "      <td>13.825000</td>\n",
       "      <td>73.000000</td>\n",
       "      <td>0.000000</td>\n",
       "      <td>0.000000</td>\n",
       "      <td>0.000000</td>\n",
       "    </tr>\n",
       "    <tr>\n",
       "      <th>50%</th>\n",
       "      <td>4.000000</td>\n",
       "      <td>145.000000</td>\n",
       "      <td>92.000000</td>\n",
       "      <td>2720.000000</td>\n",
       "      <td>15.500000</td>\n",
       "      <td>76.000000</td>\n",
       "      <td>1.000000</td>\n",
       "      <td>0.000000</td>\n",
       "      <td>0.000000</td>\n",
       "    </tr>\n",
       "    <tr>\n",
       "      <th>75%</th>\n",
       "      <td>6.000000</td>\n",
       "      <td>259.000000</td>\n",
       "      <td>126.250000</td>\n",
       "      <td>3631.750000</td>\n",
       "      <td>16.975000</td>\n",
       "      <td>79.000000</td>\n",
       "      <td>1.000000</td>\n",
       "      <td>0.000000</td>\n",
       "      <td>0.000000</td>\n",
       "    </tr>\n",
       "    <tr>\n",
       "      <th>max</th>\n",
       "      <td>8.000000</td>\n",
       "      <td>455.000000</td>\n",
       "      <td>225.000000</td>\n",
       "      <td>5140.000000</td>\n",
       "      <td>23.500000</td>\n",
       "      <td>82.000000</td>\n",
       "      <td>1.000000</td>\n",
       "      <td>1.000000</td>\n",
       "      <td>1.000000</td>\n",
       "    </tr>\n",
       "  </tbody>\n",
       "</table>\n",
       "</div>"
      ],
      "text/plain": [
       "       Cylinders  Displacement  Horsepower       Weight  Acceleration  \\\n",
       "count  98.000000     98.000000   98.000000    98.000000     98.000000   \n",
       "mean    5.316327    190.397959  106.000000  2932.520408     15.274490   \n",
       "std     1.714685    113.453268   43.185526   907.707799      2.786503   \n",
       "min     3.000000     70.000000   52.000000  1613.000000      8.500000   \n",
       "25%     4.000000     97.000000   75.250000  2161.250000     13.825000   \n",
       "50%     4.000000    145.000000   92.000000  2720.000000     15.500000   \n",
       "75%     6.000000    259.000000  126.250000  3631.750000     16.975000   \n",
       "max     8.000000    455.000000  225.000000  5140.000000     23.500000   \n",
       "\n",
       "       Model Year        USA     Europe      Japan  \n",
       "count   98.000000  98.000000  98.000000  98.000000  \n",
       "mean    75.959184   0.602041   0.163265   0.234694  \n",
       "std      3.825898   0.491994   0.371508   0.425986  \n",
       "min     70.000000   0.000000   0.000000   0.000000  \n",
       "25%     73.000000   0.000000   0.000000   0.000000  \n",
       "50%     76.000000   1.000000   0.000000   0.000000  \n",
       "75%     79.000000   1.000000   0.000000   0.000000  \n",
       "max     82.000000   1.000000   1.000000   1.000000  "
      ]
     },
     "execution_count": 9,
     "metadata": {},
     "output_type": "execute_result"
    }
   ],
   "source": [
    "yte = Xte['MPG']\n",
    "print(yte)\n",
    "Xte = Xte.drop('MPG', axis=1)\n",
    "Xte.describe()"
   ]
  },
  {
   "cell_type": "markdown",
   "metadata": {
    "pycharm": {
     "name": "#%% md\n"
    }
   },
   "source": [
    "### Aufgabe 6\n",
    "Die Daten in den verschiedenen Spalten sind sehr unterschiedlich skalliert. Während die Herkunftswerte nur 0 und 1 annehmen sind die Gewichtswert meist über 1000.\n",
    "Dies misst den verschiedenen Werten somit unterschiedliche Gewichtungen zu. Um dies zu vermeiden werden die Werte normalisiert, auf das Intervall zwischen '0' und '1'.\n",
    "Normalisieren Sie die Werte. Dazu finden Sie in `preprocessing` eine passende Funktion."
   ]
  },
  {
   "cell_type": "code",
   "execution_count": 19,
   "metadata": {
    "collapsed": false,
    "jupyter": {
     "outputs_hidden": false
    },
    "pycharm": {
     "name": "#%%\n"
    }
   },
   "outputs": [],
   "source": [
    "\"\"\"def normData(Xtr):\n",
    "    norm = preprocessing.Normalization(axis=None)\n",
    "    norm.adapt(Xtr)\n",
    "    XtrNorm=norm(Xtr)\n",
    "    #print(XtrNorm)\n",
    "    XtrNorm = (XtrNorm + 1)/2 #Normalization layer normalizes only on a scale [-1,1]. To get this to [0,1] adjust the values as seen\n",
    "    #print(XtrNorm)\n",
    "    XtrNormDataframe = pd.DataFrame(XtrNorm, columns=['Cylinders', 'Displacement', 'Horsepower', 'Weight', 'Acceleration', 'Model Year', 'USA', 'Europe', 'Japan'])\n",
    "    #print(XtrNormDataframe)\n",
    "    return XtrNormDataframe\"\"\""
   ]
  },
  {
   "cell_type": "markdown",
   "metadata": {
    "pycharm": {
     "name": "#%% md\n"
    }
   },
   "source": [
    "### Aufgabe 7\n",
    "Nun sind die Daten bereit für eine Regressionsanalyse.\n",
    "\n",
    "Verwenden wir zunächst nur einen Wert und berechnen eine Lineare Regression. Wir setzen 'MPG' und 'Horsepower' in Beziehung.\n",
    "Extrahieren Sie 'Horsepower' aus den Trainingsdaten, normalisieren sie die Daten und bauen Sie ein einfaches lineares System (neuronales Netz mit einem Knoten zur Regressionsanalyse) auf und trainieren Sie dieses."
   ]
  },
  {
   "cell_type": "code",
   "execution_count": 37,
   "metadata": {
    "collapsed": false,
    "jupyter": {
     "outputs_hidden": false
    },
    "pycharm": {
     "name": "#%%\n"
    }
   },
   "outputs": [
    {
     "name": "stdout",
     "output_type": "stream",
     "text": [
      "[110. 165.  70.  71.  88.  95.  62.  68.  87.  95.  75.  88.  96.  80.\n",
      " 152.  71.  76.  70.  95. 110. 155. 180. 167. 110. 130. 110. 145. 105.\n",
      "  75.  90. 100.  95. 230. 140.  90.  63.  48. 150. 110.  92. 125. 153.\n",
      "  95.  97.  83. 150.  79. 130. 103.  85.  67. 139. 130. 132.  90.  95.\n",
      "  70. 145.  80.  66.  86. 139.  78.  75. 105.  97. 110.  83.  60. 130.\n",
      "  88. 150.  90. 100.  88.  72. 138.  72.  90.  82. 100.  85. 175.  87.\n",
      "  84.  71.  92. 180.  85. 125.  65.  85.  80.  97. 112.  81. 125. 100.\n",
      " 105. 150. 135. 150.  90.  88.  72.  88.  67. 180. 170. 100. 145. 165.\n",
      "  78. 120.  79.  89.  65.  65.  52. 150.  68.  81.  84.  75. 120. 105.\n",
      "  80.  67.  72. 129.  88. 100. 110.  65.  48.  67. 225.  63. 115. 198.\n",
      "  90. 150.  90. 215. 120.  70.  65.  67. 153. 170.  65. 150. 150. 175.\n",
      " 160. 150. 140.  88. 210.  49. 110.  97. 170. 110. 110.  76.  86.  46.\n",
      " 100.  84. 115.  69. 110. 150.  84.  60.  90.  63.  85. 150.  65.  68.\n",
      " 193.  60.  61.  95. 110.  52.  68.  97.  86.  80.  48.  95. 100.  64.\n",
      "  76. 175. 122. 150. 145.  78.  90.  46.  96.  88.  90. 200. 116.  80.\n",
      " 148. 105.  72.  67. 150. 170. 158.  90. 112.  88. 115.  95.  75.  88.\n",
      "  91.  75. 190.  85. 105.  95. 105. 105.  74.  72.  74.  70.  92. 150.\n",
      "  71. 100.  88. 112.  62.  75.  60.  71. 140.  86.  88. 133.  70. 105.\n",
      "  75. 175. 115. 107.  65.  98. 150. 140.  95. 100. 137. 105. 155. 110.\n",
      "  75.  97.  88. 105.  75. 150.  65. 150.  80.  67. 150.  67.  52.  75.\n",
      "  90. 129.  98. 120. 225.  83.  70. 100. 110. 100.  90. 160. 145. 110.]\n",
      "Model: \"sequential_2\"\n",
      "_________________________________________________________________\n",
      " Layer (type)                Output Shape              Param #   \n",
      "=================================================================\n",
      " normalization_11 (Normaliza  (None, 1)                3         \n",
      " tion)                                                           \n",
      "                                                                 \n",
      " dense_2 (Dense)             (None, 1)                 2         \n",
      "                                                                 \n",
      "=================================================================\n",
      "Total params: 5\n",
      "Trainable params: 2\n",
      "Non-trainable params: 3\n",
      "_________________________________________________________________\n"
     ]
    }
   ],
   "source": [
    "HorsepowerTr=np.array(Xtr['Horsepower'])\n",
    "print(HorsepowerTr)\n",
    "horsepowerNorm = preprocessing.Normalization(input_shape=[1,], axis=None)\n",
    "horsepowerNorm.adapt(HorsepowerTr) #Creating Nomralizing layer\n",
    "\n",
    "hpModel = tf.keras.Sequential([horsepowerNorm, layers.Dense(units=1)])\n",
    "hpModel.summary()\n",
    "\n",
    "hpModel.compile(optimizer=tf.keras.optimizers.Adam(learning_rate=0.1),\n",
    "                loss=\"mean_absolute_error\")\n"
   ]
  },
  {
   "cell_type": "code",
   "execution_count": 38,
   "metadata": {},
   "outputs": [
    {
     "name": "stdout",
     "output_type": "stream",
     "text": [
      "Epoch 1/100\n",
      "8/8 [==============================] - 0s 13ms/step - loss: 23.0232 - val_loss: 22.0158\n",
      "Epoch 2/100\n",
      "8/8 [==============================] - 0s 4ms/step - loss: 22.2164 - val_loss: 21.2157\n",
      "Epoch 3/100\n",
      "8/8 [==============================] - 0s 4ms/step - loss: 21.4173 - val_loss: 20.4157\n",
      "Epoch 4/100\n",
      "8/8 [==============================] - 0s 3ms/step - loss: 20.6166 - val_loss: 19.6152\n",
      "Epoch 5/100\n",
      "8/8 [==============================] - 0s 4ms/step - loss: 19.8173 - val_loss: 18.8150\n",
      "Epoch 6/100\n",
      "8/8 [==============================] - 0s 4ms/step - loss: 19.0161 - val_loss: 18.0151\n",
      "Epoch 7/100\n",
      "8/8 [==============================] - 0s 4ms/step - loss: 18.2163 - val_loss: 17.2149\n",
      "Epoch 8/100\n",
      "8/8 [==============================] - 0s 3ms/step - loss: 17.4171 - val_loss: 16.4149\n",
      "Epoch 9/100\n",
      "8/8 [==============================] - 0s 4ms/step - loss: 16.6157 - val_loss: 15.6144\n",
      "Epoch 10/100\n",
      "8/8 [==============================] - 0s 3ms/step - loss: 15.8196 - val_loss: 14.8137\n",
      "Epoch 11/100\n",
      "8/8 [==============================] - 0s 4ms/step - loss: 15.0154 - val_loss: 14.0135\n",
      "Epoch 12/100\n",
      "8/8 [==============================] - 0s 4ms/step - loss: 14.2220 - val_loss: 13.2129\n",
      "Epoch 13/100\n",
      "8/8 [==============================] - 0s 4ms/step - loss: 13.4196 - val_loss: 12.4133\n",
      "Epoch 14/100\n",
      "8/8 [==============================] - 0s 4ms/step - loss: 12.6194 - val_loss: 11.6130\n",
      "Epoch 15/100\n",
      "8/8 [==============================] - 0s 4ms/step - loss: 11.8173 - val_loss: 10.8133\n",
      "Epoch 16/100\n",
      "8/8 [==============================] - 0s 4ms/step - loss: 11.0195 - val_loss: 10.0135\n",
      "Epoch 17/100\n",
      "8/8 [==============================] - 0s 4ms/step - loss: 10.2250 - val_loss: 9.2175\n",
      "Epoch 18/100\n",
      "8/8 [==============================] - 0s 4ms/step - loss: 9.4505 - val_loss: 8.4385\n",
      "Epoch 19/100\n",
      "8/8 [==============================] - 0s 4ms/step - loss: 8.7082 - val_loss: 7.7015\n",
      "Epoch 20/100\n",
      "8/8 [==============================] - 0s 4ms/step - loss: 8.0030 - val_loss: 7.0112\n",
      "Epoch 21/100\n",
      "8/8 [==============================] - 0s 4ms/step - loss: 7.3289 - val_loss: 6.3566\n",
      "Epoch 22/100\n",
      "8/8 [==============================] - 0s 4ms/step - loss: 6.6865 - val_loss: 5.7629\n",
      "Epoch 23/100\n",
      "8/8 [==============================] - 0s 4ms/step - loss: 6.1061 - val_loss: 5.2201\n",
      "Epoch 24/100\n",
      "8/8 [==============================] - 0s 4ms/step - loss: 5.6103 - val_loss: 4.7527\n",
      "Epoch 25/100\n",
      "8/8 [==============================] - 0s 4ms/step - loss: 5.1828 - val_loss: 4.3709\n",
      "Epoch 26/100\n",
      "8/8 [==============================] - 0s 4ms/step - loss: 4.8703 - val_loss: 4.0665\n",
      "Epoch 27/100\n",
      "8/8 [==============================] - 0s 4ms/step - loss: 4.6254 - val_loss: 3.8890\n",
      "Epoch 28/100\n",
      "8/8 [==============================] - 0s 4ms/step - loss: 4.4330 - val_loss: 3.7505\n",
      "Epoch 29/100\n",
      "8/8 [==============================] - 0s 4ms/step - loss: 4.2700 - val_loss: 3.6370\n",
      "Epoch 30/100\n",
      "8/8 [==============================] - 0s 4ms/step - loss: 4.1468 - val_loss: 3.5566\n",
      "Epoch 31/100\n",
      "8/8 [==============================] - 0s 4ms/step - loss: 4.0623 - val_loss: 3.4859\n",
      "Epoch 32/100\n",
      "8/8 [==============================] - 0s 4ms/step - loss: 4.0028 - val_loss: 3.4350\n",
      "Epoch 33/100\n",
      "8/8 [==============================] - 0s 4ms/step - loss: 3.9471 - val_loss: 3.4175\n",
      "Epoch 34/100\n",
      "8/8 [==============================] - 0s 4ms/step - loss: 3.9146 - val_loss: 3.3983\n",
      "Epoch 35/100\n",
      "8/8 [==============================] - 0s 4ms/step - loss: 3.8845 - val_loss: 3.3833\n",
      "Epoch 36/100\n",
      "8/8 [==============================] - 0s 4ms/step - loss: 3.8658 - val_loss: 3.3466\n",
      "Epoch 37/100\n",
      "8/8 [==============================] - 0s 4ms/step - loss: 3.8578 - val_loss: 3.3322\n",
      "Epoch 38/100\n",
      "8/8 [==============================] - 0s 4ms/step - loss: 3.8411 - val_loss: 3.3288\n",
      "Epoch 39/100\n",
      "8/8 [==============================] - 0s 4ms/step - loss: 3.8336 - val_loss: 3.3300\n",
      "Epoch 40/100\n",
      "8/8 [==============================] - 0s 4ms/step - loss: 3.8318 - val_loss: 3.3142\n",
      "Epoch 41/100\n",
      "8/8 [==============================] - 0s 4ms/step - loss: 3.8257 - val_loss: 3.3298\n",
      "Epoch 42/100\n",
      "8/8 [==============================] - 0s 4ms/step - loss: 3.8253 - val_loss: 3.3298\n",
      "Epoch 43/100\n",
      "8/8 [==============================] - 0s 4ms/step - loss: 3.8246 - val_loss: 3.3411\n",
      "Epoch 44/100\n",
      "8/8 [==============================] - 0s 4ms/step - loss: 3.8247 - val_loss: 3.3347\n",
      "Epoch 45/100\n",
      "8/8 [==============================] - 0s 4ms/step - loss: 3.8209 - val_loss: 3.3214\n",
      "Epoch 46/100\n",
      "8/8 [==============================] - 0s 4ms/step - loss: 3.8209 - val_loss: 3.3083\n",
      "Epoch 47/100\n",
      "8/8 [==============================] - 0s 5ms/step - loss: 3.8214 - val_loss: 3.2984\n",
      "Epoch 48/100\n",
      "8/8 [==============================] - 0s 4ms/step - loss: 3.8205 - val_loss: 3.2959\n",
      "Epoch 49/100\n",
      "8/8 [==============================] - 0s 4ms/step - loss: 3.8207 - val_loss: 3.2945\n",
      "Epoch 50/100\n",
      "8/8 [==============================] - 0s 4ms/step - loss: 3.8183 - val_loss: 3.3103\n",
      "Epoch 51/100\n",
      "8/8 [==============================] - 0s 4ms/step - loss: 3.8199 - val_loss: 3.3146\n",
      "Epoch 52/100\n",
      "8/8 [==============================] - 0s 4ms/step - loss: 3.8179 - val_loss: 3.3052\n",
      "Epoch 53/100\n",
      "8/8 [==============================] - 0s 4ms/step - loss: 3.8192 - val_loss: 3.3032\n",
      "Epoch 54/100\n",
      "8/8 [==============================] - 0s 4ms/step - loss: 3.8233 - val_loss: 3.3213\n",
      "Epoch 55/100\n",
      "8/8 [==============================] - 0s 4ms/step - loss: 3.8202 - val_loss: 3.3225\n",
      "Epoch 56/100\n",
      "8/8 [==============================] - 0s 4ms/step - loss: 3.8199 - val_loss: 3.3259\n",
      "Epoch 57/100\n",
      "8/8 [==============================] - 0s 4ms/step - loss: 3.8189 - val_loss: 3.3264\n",
      "Epoch 58/100\n",
      "8/8 [==============================] - 0s 4ms/step - loss: 3.8186 - val_loss: 3.3165\n",
      "Epoch 59/100\n",
      "8/8 [==============================] - 0s 4ms/step - loss: 3.8196 - val_loss: 3.3046\n",
      "Epoch 60/100\n",
      "8/8 [==============================] - 0s 4ms/step - loss: 3.8205 - val_loss: 3.3010\n",
      "Epoch 61/100\n",
      "8/8 [==============================] - 0s 4ms/step - loss: 3.8202 - val_loss: 3.2924\n",
      "Epoch 62/100\n",
      "8/8 [==============================] - 0s 4ms/step - loss: 3.8199 - val_loss: 3.3109\n",
      "Epoch 63/100\n",
      "8/8 [==============================] - 0s 4ms/step - loss: 3.8192 - val_loss: 3.3196\n",
      "Epoch 64/100\n",
      "8/8 [==============================] - 0s 4ms/step - loss: 3.8185 - val_loss: 3.3141\n",
      "Epoch 65/100\n",
      "8/8 [==============================] - 0s 4ms/step - loss: 3.8222 - val_loss: 3.2990\n",
      "Epoch 66/100\n",
      "8/8 [==============================] - 0s 4ms/step - loss: 3.8211 - val_loss: 3.2933\n",
      "Epoch 67/100\n",
      "8/8 [==============================] - 0s 4ms/step - loss: 3.8211 - val_loss: 3.3094\n",
      "Epoch 68/100\n",
      "8/8 [==============================] - 0s 4ms/step - loss: 3.8184 - val_loss: 3.3210\n",
      "Epoch 69/100\n",
      "8/8 [==============================] - 0s 4ms/step - loss: 3.8217 - val_loss: 3.3353\n",
      "Epoch 70/100\n",
      "8/8 [==============================] - 0s 4ms/step - loss: 3.8195 - val_loss: 3.3221\n",
      "Epoch 71/100\n",
      "8/8 [==============================] - 0s 4ms/step - loss: 3.8221 - val_loss: 3.3103\n",
      "Epoch 72/100\n",
      "8/8 [==============================] - 0s 4ms/step - loss: 3.8199 - val_loss: 3.3353\n",
      "Epoch 73/100\n",
      "8/8 [==============================] - 0s 4ms/step - loss: 3.8230 - val_loss: 3.3409\n",
      "Epoch 74/100\n",
      "8/8 [==============================] - 0s 4ms/step - loss: 3.8193 - val_loss: 3.3198\n",
      "Epoch 75/100\n",
      "8/8 [==============================] - 0s 4ms/step - loss: 3.8169 - val_loss: 3.2932\n",
      "Epoch 76/100\n",
      "8/8 [==============================] - 0s 4ms/step - loss: 3.8247 - val_loss: 3.2705\n",
      "Epoch 77/100\n",
      "8/8 [==============================] - 0s 4ms/step - loss: 3.8301 - val_loss: 3.2930\n",
      "Epoch 78/100\n",
      "8/8 [==============================] - 0s 4ms/step - loss: 3.8218 - val_loss: 3.2861\n",
      "Epoch 79/100\n",
      "8/8 [==============================] - 0s 4ms/step - loss: 3.8229 - val_loss: 3.2878\n",
      "Epoch 80/100\n",
      "8/8 [==============================] - 0s 4ms/step - loss: 3.8229 - val_loss: 3.3175\n",
      "Epoch 81/100\n",
      "8/8 [==============================] - 0s 4ms/step - loss: 3.8187 - val_loss: 3.3200\n",
      "Epoch 82/100\n",
      "8/8 [==============================] - 0s 4ms/step - loss: 3.8234 - val_loss: 3.3034\n",
      "Epoch 83/100\n",
      "8/8 [==============================] - 0s 4ms/step - loss: 3.8209 - val_loss: 3.3163\n",
      "Epoch 84/100\n",
      "8/8 [==============================] - 0s 4ms/step - loss: 3.8238 - val_loss: 3.3381\n",
      "Epoch 85/100\n",
      "8/8 [==============================] - 0s 4ms/step - loss: 3.8257 - val_loss: 3.3507\n",
      "Epoch 86/100\n",
      "8/8 [==============================] - 0s 4ms/step - loss: 3.8207 - val_loss: 3.3253\n",
      "Epoch 87/100\n",
      "8/8 [==============================] - 0s 4ms/step - loss: 3.8214 - val_loss: 3.3095\n",
      "Epoch 88/100\n",
      "8/8 [==============================] - 0s 4ms/step - loss: 3.8214 - val_loss: 3.3003\n",
      "Epoch 89/100\n",
      "8/8 [==============================] - 0s 4ms/step - loss: 3.8202 - val_loss: 3.3099\n",
      "Epoch 90/100\n",
      "8/8 [==============================] - 0s 4ms/step - loss: 3.8189 - val_loss: 3.3017\n",
      "Epoch 91/100\n",
      "8/8 [==============================] - 0s 3ms/step - loss: 3.8192 - val_loss: 3.3061\n",
      "Epoch 92/100\n",
      "8/8 [==============================] - 0s 4ms/step - loss: 3.8184 - val_loss: 3.3223\n",
      "Epoch 93/100\n",
      "8/8 [==============================] - 0s 4ms/step - loss: 3.8227 - val_loss: 3.3186\n",
      "Epoch 94/100\n",
      "8/8 [==============================] - 0s 4ms/step - loss: 3.8185 - val_loss: 3.3297\n",
      "Epoch 95/100\n",
      "8/8 [==============================] - 0s 4ms/step - loss: 3.8202 - val_loss: 3.3379\n",
      "Epoch 96/100\n",
      "8/8 [==============================] - 0s 3ms/step - loss: 3.8211 - val_loss: 3.3395\n",
      "Epoch 97/100\n",
      "8/8 [==============================] - 0s 4ms/step - loss: 3.8220 - val_loss: 3.3498\n",
      "Epoch 98/100\n",
      "8/8 [==============================] - 0s 4ms/step - loss: 3.8218 - val_loss: 3.3409\n",
      "Epoch 99/100\n",
      "8/8 [==============================] - 0s 4ms/step - loss: 3.8224 - val_loss: 3.3532\n",
      "Epoch 100/100\n",
      "8/8 [==============================] - 0s 4ms/step - loss: 3.8216 - val_loss: 3.3430\n"
     ]
    }
   ],
   "source": [
    "learnHis=hpModel.fit(HorsepowerTr, ytr, epochs=100, validation_split = 0.2)\n",
    "#Loss geht runter ist gut. Accuracy hier schwer/nicht anzeigbar, weil kein Klassifikationsproblem"
   ]
  },
  {
   "cell_type": "code",
   "execution_count": 39,
   "metadata": {},
   "outputs": [],
   "source": [
    "def plot_lossAndValLoss(learnHis):\n",
    "    plt.plot(learnHis.history['loss'], label='loss')\n",
    "    plt.plot(learnHis.history['val_loss'], label='val_loss')\n",
    "    plt.ylim([0,10])\n",
    "    plt.xlabel('Epoch')\n",
    "    plt.ylabel('Error')\n",
    "    plt.legend()\n",
    "    "
   ]
  },
  {
   "cell_type": "markdown",
   "metadata": {
    "pycharm": {
     "name": "#%% md\n"
    }
   },
   "source": [
    "### Aufgabe 8\n",
    "Zeigen Sie nun wie gut das lineare System auf die Daten fittet. Plotten Sie die Daten und das lineare Ergebnis."
   ]
  },
  {
   "cell_type": "code",
   "execution_count": 41,
   "metadata": {
    "collapsed": false,
    "jupyter": {
     "outputs_hidden": false
    },
    "pycharm": {
     "name": "#%%\n"
    }
   },
   "outputs": [
    {
     "name": "stdout",
     "output_type": "stream",
     "text": [
      "(294,)\n"
     ]
    },
    {
     "data": {
      "image/png": "[encoded data removed]",
      "text/plain": [
       "<Figure size 640x480 with 1 Axes>"
      ]
     },
     "metadata": {},
     "output_type": "display_data"
    }
   ],
   "source": [
    "plot_lossAndValLoss(learnHis)"
   ]
  },
  {
   "cell_type": "code",
   "execution_count": 43,
   "metadata": {},
   "outputs": [
    {
     "name": "stdout",
     "output_type": "stream",
     "text": [
      "10/10 [==============================] - 0s 776us/step\n"
     ]
    },
    {
     "data": {
      "text/plain": [
       "<matplotlib.legend.Legend at 0x17724108730>"
      ]
     },
     "execution_count": 43,
     "metadata": {},
     "output_type": "execute_result"
    },
    {
     "data": {
      "image/png": "[encoded data removed]",
      "text/plain": [
       "<Figure size 640x480 with 1 Axes>"
      ]
     },
     "metadata": {},
     "output_type": "display_data"
    }
   ],
   "source": [
    "plt.scatter(HorsepowerTr, ytr, label='Daten')\n",
    "plt.plot(tf.linspace(0.0, 293, 294), hpModel.predict(tf.linspace(0.0, 293, 294)), color='black', label='Predict')\n",
    "plt.xlabel('Horsepower')\n",
    "plt.ylabel('MPG')\n",
    "plt.legend()"
   ]
  },
  {
   "cell_type": "markdown",
   "metadata": {
    "pycharm": {
     "name": "#%% md\n"
    }
   },
   "source": [
    "### Aufgabe 9\n",
    "Nun versuchen wir die Daten nichtlinear zu fitten. Dazu benötigen wir ein nichlineares System, also ein mehrschichtiges Neuronales Netz.\n",
    "\n",
    "Erstellen Sie für die 'MPG','Horsepower'-Daten ein DNN und Plotten Sie die Daten wieder."
   ]
  },
  {
   "cell_type": "code",
   "execution_count": null,
   "metadata": {
    "collapsed": false,
    "jupyter": {
     "outputs_hidden": false
    },
    "pycharm": {
     "name": "#%%\n"
    }
   },
   "outputs": [],
   "source": []
  },
  {
   "cell_type": "code",
   "execution_count": null,
   "metadata": {
    "collapsed": false,
    "jupyter": {
     "outputs_hidden": false
    },
    "pycharm": {
     "name": "#%%\n"
    }
   },
   "outputs": [],
   "source": []
  },
  {
   "cell_type": "markdown",
   "metadata": {
    "pycharm": {
     "name": "#%% md\n"
    }
   },
   "source": [
    "### Aufgabe 10\n",
    "Nun wollen wir alle Daten unseres Datensets miteinbeziehen und sehen ob wir den Fehler nicht noch verkleinern können.\n",
    "Bauen Sie also ein DNN das alle Daten verwendet, trainieren Sie es und ploten Sie den Verlauf Validierungsfehlers und des Trainingsfehlers."
   ]
  },
  {
   "cell_type": "code",
   "execution_count": null,
   "metadata": {
    "collapsed": false,
    "jupyter": {
     "outputs_hidden": false
    },
    "pycharm": {
     "name": "#%%\n"
    }
   },
   "outputs": [],
   "source": [
    "\n"
   ]
  },
  {
   "cell_type": "code",
   "execution_count": null,
   "metadata": {
    "collapsed": false,
    "jupyter": {
     "outputs_hidden": false
    },
    "pycharm": {
     "name": "#%%\n"
    }
   },
   "outputs": [],
   "source": []
  },
  {
   "cell_type": "code",
   "execution_count": null,
   "metadata": {
    "collapsed": false,
    "jupyter": {
     "outputs_hidden": false
    },
    "pycharm": {
     "name": "#%%\n"
    }
   },
   "outputs": [],
   "source": []
  },
  {
   "cell_type": "markdown",
   "metadata": {
    "pycharm": {
     "name": "#%% md\n"
    }
   },
   "source": [
    "Versuchen Sie nun mit verschiedenen Optimierern die Netze zu trainieren.\n",
    "Stellen Sie die Ergebnisse zum Vergleich in einem Plot von jeweils Trainingsverlust und Validierungsverlust dar."
   ]
  },
  {
   "cell_type": "code",
   "execution_count": null,
   "metadata": {
    "collapsed": false,
    "jupyter": {
     "outputs_hidden": false
    },
    "pycharm": {
     "name": "#%%\n"
    }
   },
   "outputs": [],
   "source": [
    "\n"
   ]
  },
  {
   "cell_type": "code",
   "execution_count": null,
   "metadata": {
    "collapsed": false,
    "jupyter": {
     "outputs_hidden": false
    },
    "pycharm": {
     "name": "#%%\n"
    }
   },
   "outputs": [],
   "source": [
    "\n"
   ]
  },
  {
   "cell_type": "code",
   "execution_count": null,
   "metadata": {},
   "outputs": [],
   "source": []
  },
  {
   "cell_type": "code",
   "execution_count": null,
   "metadata": {},
   "outputs": [],
   "source": [
    "#Bei der Bearbeitung der Aufgabe bin ich auf folgende Webseite gestoßen: https://www.tensorflow.org/tutorials/keras/regression . Wer also eine echte Musterlösung haben möchte, kann sich hieran orientieren"
   ]
  }
 ],
 "metadata": {
  "kernelspec": {
   "display_name": "Python 3 (ipykernel)",
   "language": "python",
   "name": "python3"
  },
  "language_info": {
   "codemirror_mode": {
    "name": "ipython",
    "version": 3
   },
   "file_extension": ".py",
   "mimetype": "text/x-python",
   "name": "python",
   "nbconvert_exporter": "python",
   "pygments_lexer": "ipython3",
   "version": "3.9.13"
  }
 },
 "nbformat": 4,
 "nbformat_minor": 4
}
