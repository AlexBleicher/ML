{
 "cells": [
  {
   "cell_type": "markdown",
   "metadata": {},
   "source": [
    "# Mel Frequency Cepstrum Coefficients"
   ]
  },
  {
   "cell_type": "markdown",
   "metadata": {},
   "source": [
    "In der heutigen Übung betrachten wir Mel Frequency Cepstrum Coefficients, die Standardmerkmale der Sprachverarbeitung. \n",
    "\n",
    "Wir führen zuerst ein k-Means-Clustern von Vokalen durch,\n",
    "anschließend implementieren wir eine Geschlechtserkennung mit KNN.\n",
    "\n",
    "Sie benoetigen zusaetzlich das Paket *soundfile* um Audiodateien zu lesen und \n",
    "*python_speech_features* zur MFCC-Berechnung."
   ]
  },
  {
   "cell_type": "markdown",
   "metadata": {},
   "source": [
    "# MFCC Berechnung"
   ]
  },
  {
   "cell_type": "code",
   "execution_count": 33,
   "metadata": {},
   "outputs": [],
   "source": [
    "import matplotlib.pyplot as plt\n",
    "import numpy as np\n",
    "import os\n",
    "import soundfile as sf\n",
    "import python_speech_features as mfcc"
   ]
  },
  {
   "cell_type": "markdown",
   "metadata": {},
   "source": [
    "Folgende Methode berechnet MFCCs auf einer Audiodatei mit Hilfe des Paketes python_speech_features und speichert das Ergebnis "
   ]
  },
  {
   "cell_type": "code",
   "execution_count": 34,
   "metadata": {},
   "outputs": [],
   "source": [
    "def extract_feats(audiof):\n",
    "    \"\"\"extract 20 dim mfcc features from an audio\"\"\"\n",
    "    \n",
    "    audio,samplerate= sf.read(audiof);\n",
    "    mfcc_feat = mfcc.mfcc(audio, samplerate, 0.025, 0.01 , 20, appendEnergy=False)\n",
    "\n",
    "    return mfcc_feat"
   ]
  },
  {
   "cell_type": "markdown",
   "metadata": {},
   "source": [
    "## Geschlechtsklassifikation anhand von Sprachdaten\n",
    "\n",
    "\n",
    "- Im Repository finden Sie Sprachdaten aus dem LibriSpeech-Corpus.\n",
    "- Es existieren zwei Verzeichnisse mit Sprachdaten. Die Verzeichnisse sind in Unterverzeichnisse aufgeteilt. Jedes Unterverzeichnis beinhaltet Sprachdaten eines Sprechers, diese sind wiederum in Sessions unterteilt. In einer Session existieren mehrere Sprachdaten.\n",
    "    - eines zum Training: *train-clean*\n",
    "    - eines zum Testen: *test-clean-10spk*\n",
    "- Es existeren utterance to speaker maps. Die Maps enthalten zwei Spalten. In der ersten Spalte steht die SprecherID, in der zweiten das label ('F' --> female, 'M' --> male) \n",
    "    - utt2spk.train\n",
    "    - utt2spk.test-10spk\n",
    "\n",
    "\n",
    "\n"
   ]
  },
  {
   "cell_type": "markdown",
   "metadata": {},
   "source": [
    "### Teil 1\n",
    "\n",
    "Aufgaben:\n",
    "\n",
    "1. Schreiben Sie Code, der die Sprachdaten einliest und MFCCs **pro Session eines Sprechers** berechnet. Am Ende erhalten Sie eine MFCC-Matrix pro Session.\n",
    "2. Berechnen Sie den Mittelwert, die Varianz, sowie Minimum und Maximum der Merkmale einer Session.\n",
    "3. Trainieren Sie mit diesen einen KNN-Klassifikator zur Geschlechtserkennung auf den *train-clean*-Daten\n",
    "4. Testen Sie ihr System auf den *test-clean-10spk*-Daten"
   ]
  },
  {
   "cell_type": "code",
   "execution_count": 35,
   "metadata": {},
   "outputs": [
    {
     "name": "stdout",
     "output_type": "stream",
     "text": [
      "{'1926': 'F', '6019': 'M', '458': 'M', '3168': 'M', '8312': 'F', '2893': 'M', '7517': 'F', '4088': 'F', '7780': 'F', '5867': 'F'}\n"
     ]
    }
   ],
   "source": [
    "os.chdir(\"C:\\\\Users\\\\ABleicher\\\\Desktop\\\\MachineLearning_SS23-main-6_speechfeatures-notebooks-data\\\\6_speechfeatures\\\\notebooks\\\\data\\\\LibriSpeech\")\n",
    "def gendermap(utt2spk):\n",
    "    gender={}\n",
    "    f=open(utt2spk, 'r')\n",
    "    for line in f:\n",
    "        line= \",\".join( line.split(\" \",1))\n",
    "        columns=line.split(\",\")\n",
    "        gender[columns[0]]=columns[1].strip()\n",
    "    f.close()\n",
    "    return gender\n",
    "trainGenderMap=gendermap('utt2spk.train')\n",
    "testGenderMap=gendermap('utt2spk.test-10spk')\n",
    "print(testGenderMap)"
   ]
  },
  {
   "cell_type": "code",
   "execution_count": 36,
   "metadata": {},
   "outputs": [
    {
     "name": "stdout",
     "output_type": "stream",
     "text": [
      "Done\n"
     ]
    }
   ],
   "source": [
    "labels_train=np.empty([0,1])\n",
    "x_train=np.empty([0,4])\n",
    "\n",
    "speakers = os.listdir(\"C:\\\\Users\\\\ABleicher\\\\Desktop\\\\MachineLearning_SS23-main-6_speechfeatures-notebooks-data\\\\6_speechfeatures\\\\notebooks\\\\data\\\\LibriSpeech\\\\train-clean\")\n",
    "for s in speakers:\n",
    "    sessions=os.listdir(\"C:\\\\Users\\\\ABleicher\\\\Desktop\\\\MachineLearning_SS23-main-6_speechfeatures-notebooks-data\\\\6_speechfeatures\\\\notebooks\\\\data\\\\LibriSpeech\\\\train-clean\\\\\"+s)\n",
    "    for session in sessions:\n",
    "        mfccMatrix = np.empty([0,20])\n",
    "        files = os.listdir(\"C:\\\\Users\\\\ABleicher\\\\Desktop\\\\MachineLearning_SS23-main-6_speechfeatures-notebooks-data\\\\6_speechfeatures\\\\notebooks\\\\data\\\\LibriSpeech\\\\train-clean\\\\\"+s+\"\\\\\"+session)\n",
    "        i=1\n",
    "        for file in files:\n",
    "            if(os.fsdecode(file).endswith('.flac')):\n",
    "                mfccMatrix=np.vstack([mfccMatrix, extract_feats(\"C:\\\\Users\\\\ABleicher\\\\Desktop\\\\MachineLearning_SS23-main-6_speechfeatures-notebooks-data\\\\6_speechfeatures\\\\notebooks\\\\data\\\\LibriSpeech\\\\train-clean\\\\\"+s+\"\\\\\"+session+\"\\\\\"+file)])\n",
    "        \n",
    "        characteristics=np.array([np.mean(mfccMatrix), np.var(mfccMatrix), np.amin(mfccMatrix), np.amax(mfccMatrix)])\n",
    "        x_train=np.vstack([x_train, characteristics])\n",
    "        labels_train=np.append(labels_train,trainGenderMap[s])\n",
    "print(\"Done\")"
   ]
  },
  {
   "cell_type": "code",
   "execution_count": 38,
   "metadata": {},
   "outputs": [
    {
     "name": "stdout",
     "output_type": "stream",
     "text": [
      "Done\n"
     ]
    }
   ],
   "source": [
    "x_test=np.empty([0,4])\n",
    "labels_test=np.empty([0,1])\n",
    "\n",
    "speakers = os.listdir(\"C:\\\\Users\\\\ABleicher\\\\Desktop\\\\MachineLearning_SS23-main-6_speechfeatures-notebooks-data\\\\6_speechfeatures\\\\notebooks\\\\data\\\\LibriSpeech\\\\test-clean-10spk\")\n",
    "for s in speakers:\n",
    "    sessions=os.listdir(\"C:\\\\Users\\\\ABleicher\\\\Desktop\\\\MachineLearning_SS23-main-6_speechfeatures-notebooks-data\\\\6_speechfeatures\\\\notebooks\\\\data\\\\LibriSpeech\\\\test-clean-10spk\\\\\"+s)\n",
    "    for session in sessions:\n",
    "        mfccMatrix = np.empty([0,20])\n",
    "        files = os.listdir(\"C:\\\\Users\\\\ABleicher\\\\Desktop\\\\MachineLearning_SS23-main-6_speechfeatures-notebooks-data\\\\6_speechfeatures\\\\notebooks\\\\data\\\\LibriSpeech\\\\test-clean-10spk\\\\\"+s+\"\\\\\"+session)\n",
    "        i=1\n",
    "        for file in files:\n",
    "            if(os.fsdecode(file).endswith('.flac')):\n",
    "                mfccMatrix=np.vstack([mfccMatrix, extract_feats(\"C:\\\\Users\\\\ABleicher\\\\Desktop\\\\MachineLearning_SS23-main-6_speechfeatures-notebooks-data\\\\6_speechfeatures\\\\notebooks\\\\data\\\\LibriSpeech\\\\test-clean-10spk\\\\\"+s+\"\\\\\"+session+\"\\\\\"+file)])\n",
    "        \n",
    "        characteristics=np.array([np.mean(mfccMatrix), np.var(mfccMatrix), np.amin(mfccMatrix), np.amax(mfccMatrix)])\n",
    "        x_test=np.vstack([x_test, characteristics])\n",
    "        labels_test=np.append(labels_test,testGenderMap[s])\n",
    "print(\"Done\")"
   ]
  },
  {
   "cell_type": "code",
   "execution_count": 12,
   "metadata": {},
   "outputs": [
    {
     "name": "stdout",
     "output_type": "stream",
     "text": [
      "0.65\n",
      "              precision    recall  f1-score   support\n",
      "\n",
      "           F       0.69      0.75      0.72        12\n",
      "           M       0.57      0.50      0.53         8\n",
      "\n",
      "    accuracy                           0.65        20\n",
      "   macro avg       0.63      0.62      0.63        20\n",
      "weighted avg       0.64      0.65      0.65        20\n",
      "\n"
     ]
    },
    {
     "name": "stderr",
     "output_type": "stream",
     "text": [
      "C:\\Users\\ABleicher\\anaconda3\\lib\\site-packages\\sklearn\\neighbors\\_classification.py:228: FutureWarning: Unlike other reduction functions (e.g. `skew`, `kurtosis`), the default behavior of `mode` typically preserves the axis it acts along. In SciPy 1.11.0, this behavior will change: the default value of `keepdims` will become False, the `axis` over which the statistic is taken will be eliminated, and the value None will no longer be accepted. Set `keepdims` to True or False to avoid this warning.\n",
      "  mode, _ = stats.mode(_y[neigh_ind, k], axis=1)\n"
     ]
    }
   ],
   "source": [
    "import sklearn \n",
    "from sklearn.neighbors import KNeighborsClassifier \n",
    "\n",
    "knn = KNeighborsClassifier(n_neighbors = 8)\n",
    "\n",
    "knn.fit(x_train, labels_train)\n",
    "\n",
    "\n",
    "Z=knn.predict(x_test)\n",
    "print(sklearn.metrics.accuracy_score(labels_test, Z)) #Nicht ausgeglichenes Datenset => Akkuratheit kein gutes Evaluationsmaß\n",
    "\n",
    "eval=sklearn.metrics.classification_report(labels_test, Z)\n",
    "print(eval)"
   ]
  },
  {
   "cell_type": "markdown",
   "metadata": {},
   "source": [
    "### Teil 2\n",
    "\n",
    "Anstatt für jede Session *Funktionale*, also Mittelwert-, Varianz-, Min-, Maxvektor auf den MFCCs zu berechnen und ggf. zu konkatenieren, können MFCCs mit dem KNN auch frame-weise klassifiziert werden. Dann erzeugt jeder MFCC-Vektor ein Klassifikationsergebnis. Anschließend müssen die frame-weisen Entscheidungen gemittelt werden um pro Session ein finales Ergebnis zu erhalten. \n",
    "\n",
    "Implementieren Sie dieses Vorgehen und vergleichen Sie die Ergebnisse mit denen aus Teil 1."
   ]
  },
  {
   "cell_type": "code",
   "execution_count": 66,
   "metadata": {},
   "outputs": [
    {
     "name": "stdout",
     "output_type": "stream",
     "text": [
      "Done\n"
     ]
    }
   ],
   "source": [
    "import statistics\n",
    "import warnings\n",
    "\n",
    "with warnings.catch_warnings(record=True):\n",
    "\n",
    "    knn = KNeighborsClassifier(n_neighbors = 8)\n",
    "    labels_train2=np.empty([0,1])\n",
    "    x_train2=np.empty([0,20])\n",
    "\n",
    "    speakers = os.listdir(\"C:\\\\Users\\\\ABleicher\\\\Desktop\\\\MachineLearning_SS23-main-6_speechfeatures-notebooks-data\\\\6_speechfeatures\\\\notebooks\\\\data\\\\LibriSpeech\\\\train-clean\")\n",
    "    for s in speakers:\n",
    "        sessions=os.listdir(\"C:\\\\Users\\\\ABleicher\\\\Desktop\\\\MachineLearning_SS23-main-6_speechfeatures-notebooks-data\\\\6_speechfeatures\\\\notebooks\\\\data\\\\LibriSpeech\\\\train-clean\\\\\"+s)\n",
    "        for session in sessions:\n",
    "            mfccMatrix=np.empty([0,20])\n",
    "            files = os.listdir(\"C:\\\\Users\\\\ABleicher\\\\Desktop\\\\MachineLearning_SS23-main-6_speechfeatures-notebooks-data\\\\6_speechfeatures\\\\notebooks\\\\data\\\\LibriSpeech\\\\train-clean\\\\\"+s+\"\\\\\"+session)\n",
    "            i=1\n",
    "            for file in files:\n",
    "                if(os.fsdecode(file).endswith('.flac')):\n",
    "                    mfccMatrix=np.vstack([mfccMatrix, extract_feats(\"C:\\\\Users\\\\ABleicher\\\\Desktop\\\\MachineLearning_SS23-main-6_speechfeatures-notebooks-data\\\\6_speechfeatures\\\\notebooks\\\\data\\\\LibriSpeech\\\\train-clean\\\\\"+s+\"\\\\\"+session+\"\\\\\"+file)])\n",
    "            x_train2=np.vstack([x_train2, mfccMatrix.mean(0)])\n",
    "            labels_train2=np.append(labels_train2,trainGenderMap[s])\n",
    "    print(\"Done\")\n",
    "    knn.fit(x_train2, labels_train2)"
   ]
  },
  {
   "cell_type": "code",
   "execution_count": 74,
   "metadata": {},
   "outputs": [
    {
     "name": "stdout",
     "output_type": "stream",
     "text": [
      "Done\n",
      "['F' 'F' 'F' 'F' 'F' 'M' 'F' 'F' 'F' 'F' 'F' 'F' 'F' 'F' 'F' 'F' 'F' 'F'\n",
      " 'F' 'F']\n"
     ]
    }
   ],
   "source": [
    "import warnings\n",
    "\n",
    "with warnings.catch_warnings(record=True):\n",
    "\n",
    "    Z=np.empty([0,1])\n",
    "    labels_test2=np.empty([0,1])\n",
    "    speakers = os.listdir(\"C:\\\\Users\\\\ABleicher\\\\Desktop\\\\MachineLearning_SS23-main-6_speechfeatures-notebooks-data\\\\6_speechfeatures\\\\notebooks\\\\data\\\\LibriSpeech\\\\test-clean-10spk\")\n",
    "    for s in speakers:\n",
    "        sessions=os.listdir(\"C:\\\\Users\\\\ABleicher\\\\Desktop\\\\MachineLearning_SS23-main-6_speechfeatures-notebooks-data\\\\6_speechfeatures\\\\notebooks\\\\data\\\\LibriSpeech\\\\test-clean-10spk\\\\\"+s)\n",
    "        for session in sessions:\n",
    "            sessionLabels=np.empty([0,1])\n",
    "            files = os.listdir(\"C:\\\\Users\\\\ABleicher\\\\Desktop\\\\MachineLearning_SS23-main-6_speechfeatures-notebooks-data\\\\6_speechfeatures\\\\notebooks\\\\data\\\\LibriSpeech\\\\test-clean-10spk\\\\\"+s+\"\\\\\"+session)\n",
    "            i=1\n",
    "            for file in files:\n",
    "                if(os.fsdecode(file).endswith('.flac')):\n",
    "                    sessionLabels=np.append(sessionLabels, knn.predict(extract_feats(\"C:\\\\Users\\\\ABleicher\\\\Desktop\\\\MachineLearning_SS23-main-6_speechfeatures-notebooks-data\\\\6_speechfeatures\\\\notebooks\\\\data\\\\LibriSpeech\\\\test-clean-10spk\\\\\"+s+\"\\\\\"+session+\"\\\\\"+file)))\n",
    "            Z=np.append(Z,statistics.mode(sessionLabels))\n",
    "            labels_test2=np.append(labels_test2,testGenderMap[s])\n",
    "    print(\"Done\")\n",
    "    print(Z)\n"
   ]
  },
  {
   "cell_type": "code",
   "execution_count": 75,
   "metadata": {},
   "outputs": [
    {
     "name": "stdout",
     "output_type": "stream",
     "text": [
      "['F' 'F' 'F' 'M' 'M' 'M' 'M' 'F' 'F' 'M' 'M' 'M' 'F' 'M' 'F' 'F' 'F' 'F'\n",
      " 'F' 'F']\n",
      "['F' 'F' 'F' 'F' 'F' 'M' 'F' 'F' 'F' 'F' 'F' 'F' 'F' 'F' 'F' 'F' 'F' 'F'\n",
      " 'F' 'F']\n",
      "0.65\n",
      "              precision    recall  f1-score   support\n",
      "\n",
      "           F       0.63      1.00      0.77        12\n",
      "           M       1.00      0.12      0.22         8\n",
      "\n",
      "    accuracy                           0.65        20\n",
      "   macro avg       0.82      0.56      0.50        20\n",
      "weighted avg       0.78      0.65      0.55        20\n",
      "\n"
     ]
    }
   ],
   "source": [
    "print(labels_test2)\n",
    "print(Z)\n",
    "\n",
    "\n",
    "print(sklearn.metrics.accuracy_score(labels_test2, Z)) #Nicht ausgeglichenes Datenset => Akkuratheit kein gutes Evaluationsmaß\n",
    "\n",
    "eval=sklearn.metrics.classification_report(labels_test2, Z)\n",
    "print(eval)"
   ]
  },
  {
   "cell_type": "code",
   "execution_count": null,
   "metadata": {},
   "outputs": [],
   "source": []
  }
 ],
 "metadata": {
  "kernelspec": {
   "display_name": "Python 3 (ipykernel)",
   "language": "python",
   "name": "python3"
  },
  "language_info": {
   "codemirror_mode": {
    "name": "ipython",
    "version": 3
   },
   "file_extension": ".py",
   "mimetype": "text/x-python",
   "name": "python",
   "nbconvert_exporter": "python",
   "pygments_lexer": "ipython3",
   "version": "3.9.13"
  }
 },
 "nbformat": 4,
 "nbformat_minor": 4
}
