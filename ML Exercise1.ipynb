{
 "cells": [
  {
   "cell_type": "code",
   "execution_count": 44,
   "id": "f0701a5d-d5a7-4480-8196-3f16a19f7102",
   "metadata": {},
   "outputs": [
    {
     "name": "stdout",
     "output_type": "stream",
     "text": [
      "kann\n",
      "ich\n",
      "ihnen\n",
      "helfen?\n"
     ]
    },
    {
     "name": "stdin",
     "output_type": "stream",
     "text": [
      "Nachricht:  6\n"
     ]
    },
    {
     "name": "stdout",
     "output_type": "stream",
     "text": [
      "Antwort:  46656\n",
      "46656\n",
      "6\n",
      "helfen?\n",
      "Ihnen\n",
      "ich\n",
      "kann\n",
      "wie\n",
      "Hallo\n"
     ]
    }
   ],
   "source": [
    " class ChatHistoryNode:\n",
    "        \n",
    "        def __init__(self, id, content):\n",
    "            self.id = id\n",
    "            self.content = content\n",
    "            self.next = None\n",
    "\n",
    "class ChatHistory:\n",
    "    idCounter = 0\n",
    "    def __init__(self):\n",
    "        self.head = None\n",
    "        \n",
    "    def add(self, par):\n",
    "        self.idCounter += 1\n",
    "        if(self.head == None):\n",
    "            self.head = ChatHistoryNode(self.idCounter, par)\n",
    "        else:\n",
    "            currentHead = self.head\n",
    "            self.head = ChatHistoryNode(self.idCounter, par)\n",
    "            self.head.next = currentHead\n",
    "\n",
    "    def get(self, n):\n",
    "        list = []\n",
    "        current = self.head\n",
    "        for i in range(n):\n",
    "            if(current != None):\n",
    "                list.append(current.content)\n",
    "                current=current.next\n",
    "            else:\n",
    "                print(\"Liste zu kurz!\")\n",
    "                \n",
    "        return list\n",
    "    \n",
    "    def edit(self, nodeId, newContent):\n",
    "        current = self.head\n",
    "        while(current != None):\n",
    "            if(current.id == nodeId):\n",
    "                current.content = newContent\n",
    "                return\n",
    "            else:\n",
    "                current=current.next\n",
    "                \n",
    "    def __iter__(self):\n",
    "        current = self.head\n",
    "        while current:\n",
    "            yield current.content\n",
    "            current = current.next\n",
    "    \n",
    "    def get_iter(self, n=-1):\n",
    "        if(n==-1):\n",
    "            n=self.idCounter\n",
    "        iterator = ChatHistory.__iter__(self)\n",
    "        for i in range(n):\n",
    "            print(next(iterator))\n",
    "    \n",
    "chat_history = ChatHistory()\n",
    "\n",
    "chat_history.add(\"Hallo\")\n",
    "chat_history.add(\"wie\")\n",
    "chat_history.add(\"kann\")\n",
    "chat_history.add(\"ich\")\n",
    "chat_history.add(\"Dir\")\n",
    "chat_history.add(\"helfen?\")\n",
    "\n",
    "chat_history.edit(5, \"Ihnen\")\n",
    "\n",
    "recent_history = chat_history.get(4)\n",
    "\n",
    "for i in reversed(recent_history):\n",
    "    print(i.lower())\n",
    "    \n",
    "def convert_by_type(message):\n",
    "    chat_history.add(message)\n",
    "    a=0\n",
    "    if(message.isnumeric()):\n",
    "        i = int(message)\n",
    "        a= i**i\n",
    "    else:\n",
    "        a= message.upper()\n",
    "    chat_history.add(a)\n",
    "    return a\n",
    "\n",
    "message = input(\"Nachricht: \")\n",
    "print(\"Antwort: \", convert_by_type(message))\n",
    "\n",
    "chat_history.get_iter()"
   ]
  },
  {
   "cell_type": "code",
   "execution_count": 13,
   "id": "2da57e4e-757a-4fa9-8523-91393cd4ecca",
   "metadata": {},
   "outputs": [
    {
     "name": "stdin",
     "output_type": "stream",
     "text": [
      "Nachricht:  Hallo\n"
     ]
    },
    {
     "name": "stdout",
     "output_type": "stream",
     "text": [
      "Antwort:  HALLO\n"
     ]
    }
   ],
   "source": []
  },
  {
   "cell_type": "code",
   "execution_count": null,
   "id": "fe10ccb8-51eb-4936-b1c1-7757a6ffd166",
   "metadata": {},
   "outputs": [],
   "source": []
  }
 ],
 "metadata": {
  "kernelspec": {
   "display_name": "Python 3 (ipykernel)",
   "language": "python",
   "name": "python3"
  },
  "language_info": {
   "codemirror_mode": {
    "name": "ipython",
    "version": 3
   },
   "file_extension": ".py",
   "mimetype": "text/x-python",
   "name": "python",
   "nbconvert_exporter": "python",
   "pygments_lexer": "ipython3",
   "version": "3.9.13"
  }
 },
 "nbformat": 4,
 "nbformat_minor": 5
}
